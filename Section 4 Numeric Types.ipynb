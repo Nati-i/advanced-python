{
 "cells": [
  {
   "cell_type": "markdown",
   "metadata": {},
   "source": [
    "# Introduction\n",
    "\n",
    "- Boolean truth values -> bool\n",
    "    - 0(False), 1(True)\n",
    "- Integer Numbers (Z) -> int\n",
    "    - 0, +- 1, +-2, ...\n",
    "- Rational Number (Q) -> fractions.Fraction\n",
    "    - p/q s.t. p,q ele of Z, q != 0\n",
    "- Real Numbers (R) -> float, decimal.Decimal\n",
    "    - 0, -1, 0.125, 1/3, pi, ...\n",
    "- Complex Numbers (C) -> complex\n",
    "    - a + bi | a,b ele of R\n",
    "- Z subset of Q subset of R subset of C"
   ]
  },
  {
   "cell_type": "markdown",
   "metadata": {},
   "source": [
    "# Integers\n",
    "\n",
    "- The int datatype -> integers\n",
    "- How large can a Python int become? (postive or negative)?\n",
    "- What is the largest (base 10) number that can be represented using 8 bits?\n",
    "    - 255 (2^8 - 1)\n",
    "    - -127 (2^7 - 1)\n",
    "        - First bit is used to store the sign\n",
    "    - Using 8 bits -> [-128, 127] \n",
    "        - Since 0 does not require a sign\n",
    "    - Using 16 bits -> [-32,768, 32,767]\n",
    "    \n",
    "- Memory space is limited by address number\n",
    "    - If the bit is limited that will mean that the address itself will be limited\n",
    "    - So you will not be able to access higher, or lower, addresses\n",
    "    - In other words, if you have a 32-bit OS: you won't be able to address memores higher (lower) than the greatest int possible with those bits\n",
    "    \n",
    "    \n",
    "- In python the int object uses a **variable** number of bits\n",
    "    - This is done, of course, automatically\n",
    "- The theoretical limit of an int object in python is limited by available memory"
   ]
  },
  {
   "cell_type": "code",
   "execution_count": 1,
   "metadata": {},
   "outputs": [
    {
     "name": "stdout",
     "output_type": "stream",
     "text": [
      "<class 'int'>\n"
     ]
    }
   ],
   "source": [
    "print(type(100))"
   ]
  },
  {
   "cell_type": "code",
   "execution_count": 4,
   "metadata": {},
   "outputs": [
    {
     "name": "stdout",
     "output_type": "stream",
     "text": [
      "Number of bytes for int 0 is:  24\n",
      "Number of bytes for int 1 is:  28\n",
      "Number of bytes for int 2**1000 is:  160\n"
     ]
    }
   ],
   "source": [
    "import sys\n",
    "print('Number of bytes for int 0 is: ', sys.getsizeof(0))\n",
    "print('Number of bytes for int 1 is: ', sys.getsizeof(1))\n",
    "print('Number of bytes for int 2**1000 is: ', sys.getsizeof(2**1000))"
   ]
  },
  {
   "cell_type": "code",
   "execution_count": 7,
   "metadata": {},
   "outputs": [
    {
     "name": "stdout",
     "output_type": "stream",
     "text": [
      "Elapsed time:  0.45461349043636545\n",
      "Elapsed time:  5.589664539514821\n"
     ]
    }
   ],
   "source": [
    "import time\n",
    "\n",
    "def calc(a):\n",
    "    for i in range(10000000):\n",
    "        a * 2\n",
    "\n",
    "start = time.perf_counter()\n",
    "calc(10)\n",
    "end = time.perf_counter()\n",
    "print('Elapsed time: ', end - start)\n",
    "\n",
    "start = time.perf_counter()\n",
    "calc(2**10000)\n",
    "end = time.perf_counter()\n",
    "print('Elapsed time: ', end - start)"
   ]
  },
  {
   "cell_type": "markdown",
   "metadata": {},
   "source": [
    "# Integers: Operations\n",
    "\n",
    "- Integers support all standard arithmetic operations\n",
    "    - +, -, *, /, **\n",
    "- What is the resulting type of each operation?\n",
    "    - int + int -> int\n",
    "    - int / int -> float\n",
    "- There is a long division operator in python -> //\n",
    "    - 155 / 4 = 38 with remainder 3\n",
    "    - 155 // 4 -> 38\n",
    "    - 155 % 4 -> 3\n",
    "    - 155 = 4 * (155 // 4) + (155 % 4)\n",
    "- Numerator n and Denominator d:\n",
    "    - **n = d * (n // d) + (n % d)**\n",
    "\n",
    "- What is a floor division?\n",
    "    - The floor of a real number a is the largest integer <= a\n",
    "    - floor(3.14) -> 3\n",
    "    - floor(1.99999) -> 1\n",
    "    - floor(2) -> 2\n",
    "    - floor(-3.1) -> -4\n",
    "    \n",
    "    - a // b = floor(a / b)\n",
    "    \n",
    "    - -135 / 4 = -33.75 (-33 3/4)\n",
    "        - -135 // 4 -> -34\n",
    "        - -135 % 4 -> 1\n",
    "    - a = 13, b = 4\n",
    "        - 13/4 -> 3.25\n",
    "        - 13 // 4 -> 3\n",
    "        - 13 % 4 -> 1\n",
    "- Mod is not really mod"
   ]
  },
  {
   "cell_type": "code",
   "execution_count": 9,
   "metadata": {},
   "outputs": [
    {
     "name": "stdout",
     "output_type": "stream",
     "text": [
      "<class 'int'>\n",
      "<class 'int'>\n",
      "<class 'float'>\n"
     ]
    }
   ],
   "source": [
    "print(type(1+1))\n",
    "print(type(3 ** 6))\n",
    "print(type(2/1))"
   ]
  },
  {
   "cell_type": "code",
   "execution_count": 20,
   "metadata": {},
   "outputs": [
    {
     "name": "stdout",
     "output_type": "stream",
     "text": [
      "3\n",
      "3\n",
      "-4\n",
      "-4\n",
      "If the number is very close to the \n",
      "int then the floor will not work properly  -3\n"
     ]
    }
   ],
   "source": [
    "import math\n",
    "\n",
    "print(math.floor(3.15))\n",
    "print(math.floor(3.99999))\n",
    "print(math.floor(-3.1))\n",
    "print(math.floor(-3.00001))\n",
    "print('''If the number is very close to the \n",
    "int then the floor will not work properly ''',math.floor(-3.00000000000000000001))"
   ]
  },
  {
   "cell_type": "code",
   "execution_count": 22,
   "metadata": {},
   "outputs": [
    {
     "name": "stdout",
     "output_type": "stream",
     "text": [
      "2.0625\n",
      "2\n",
      "2\n"
     ]
    }
   ],
   "source": [
    "a = 33\n",
    "b = 16\n",
    "\n",
    "print(a/b)\n",
    "print(a//b)\n",
    "print(math.floor(a/b))"
   ]
  },
  {
   "cell_type": "code",
   "execution_count": 23,
   "metadata": {},
   "outputs": [
    {
     "name": "stdout",
     "output_type": "stream",
     "text": [
      "-2.0625\n",
      "-3\n",
      "-3\n"
     ]
    }
   ],
   "source": [
    "a = -33\n",
    "b = 16\n",
    "\n",
    "print(a/b)\n",
    "print(a//b)\n",
    "print(math.floor(a/b))"
   ]
  },
  {
   "cell_type": "code",
   "execution_count": 24,
   "metadata": {},
   "outputs": [
    {
     "name": "stdout",
     "output_type": "stream",
     "text": [
      "-2.0625\n",
      "-3\n",
      "-3\n",
      "-2\n"
     ]
    }
   ],
   "source": [
    "a = -33\n",
    "b = 16\n",
    "\n",
    "print(a/b)\n",
    "print(a//b)\n",
    "print(math.floor(a/b))\n",
    "print(math.trunc(a/b))"
   ]
  },
  {
   "cell_type": "code",
   "execution_count": 28,
   "metadata": {},
   "outputs": [
    {
     "name": "stdout",
     "output_type": "stream",
     "text": [
      "13 / 4 = 3.25\n",
      "13 // 4 = 3\n",
      "13 % 4 = 1\n",
      "a = b * (a//b) + (a%b) is satisfied:  True\n"
     ]
    }
   ],
   "source": [
    "# a = b * (a//b) + (a%b)\n",
    "\n",
    "a = 13\n",
    "b = 4\n",
    "\n",
    "print('{0} / {1} = {2}'.format(a, b, a/b))\n",
    "print('{0} // {1} = {2}'.format(a, b, a//b))\n",
    "print('{0} % {1} = {2}'.format(a, b, a%b))\n",
    "\n",
    "print( \"a = b * (a//b) + (a%b) is satisfied: \", a == b * (a//b) + (a % b))"
   ]
  },
  {
   "cell_type": "code",
   "execution_count": 29,
   "metadata": {},
   "outputs": [
    {
     "name": "stdout",
     "output_type": "stream",
     "text": [
      "13 / -4 = -3.25\n",
      "13 // -4 = -4\n",
      "13 % -4 = -3\n",
      "a = b * (a//b) + (a%b) is satisfied:  True\n"
     ]
    }
   ],
   "source": [
    "# a = b * (a//b) + (a%b)\n",
    "\n",
    "a = 13\n",
    "b = -4\n",
    "\n",
    "print('{0} / {1} = {2}'.format(a, b, a/b))\n",
    "print('{0} // {1} = {2}'.format(a, b, a//b))\n",
    "print('{0} % {1} = {2}'.format(a, b, a%b))\n",
    "\n",
    "print( \"a = b * (a//b) + (a%b) is satisfied: \", a == b * (a//b) + (a % b))"
   ]
  },
  {
   "cell_type": "code",
   "execution_count": 30,
   "metadata": {},
   "outputs": [
    {
     "name": "stdout",
     "output_type": "stream",
     "text": [
      "-13 / -4 = 3.25\n",
      "-13 // -4 = 3\n",
      "-13 % -4 = -1\n",
      "a = b * (a//b) + (a%b) is satisfied:  True\n"
     ]
    }
   ],
   "source": [
    "# a = b * (a//b) + (a%b)\n",
    "\n",
    "a = -13\n",
    "b = -4\n",
    "\n",
    "print('{0} / {1} = {2}'.format(a, b, a/b))\n",
    "print('{0} // {1} = {2}'.format(a, b, a//b))\n",
    "print('{0} % {1} = {2}'.format(a, b, a%b))\n",
    "\n",
    "print( \"a = b * (a//b) + (a%b) is satisfied: \", a == b * (a//b) + (a % b))"
   ]
  },
  {
   "cell_type": "markdown",
   "metadata": {},
   "source": [
    "## Modulo Operator\n",
    "\n",
    "- Number of Apples % Size of Net = Remaining Apple"
   ]
  },
  {
   "cell_type": "markdown",
   "metadata": {},
   "source": [
    "# Integers: Constructors and Bases\n",
    "\n",
    "- An integer is an object in python\n",
    "    - This means that there is an integer constructor\n",
    "        - int()\n",
    "- Booleans are integers \n",
    "    - True -> 1\n",
    "    - False -> 0\n",
    "\n",
    "- With the int() constructor you can specify the number base\n",
    "    - int(\"123\") -> 123 in base 10\n",
    "    - int(number, base) -> base defult = 10\n",
    "        - int(\"1010\",base=2) -> 10 in base 10\n",
    "    - base must be between 2<= base <= 36\n",
    "    - Letter can also be used\n",
    "        - int(\"A12F\", base=36)\n",
    "        - This is why the base is limited to 36 (runs out of letters)\n",
    "\n",
    "- Reverse process is also possible\n",
    "    - built-in function bin()\n",
    "        - bin(10) -> '0b1010'\n",
    "        - oct(10) -> '0o12'\n",
    "        - hex(10) -> '0xa'\n",
    "    - You can use the same clarification methods in int()\n",
    "        - int('0xA',16) -> 10 in base 10\n",
    "        - a = 0b1010 -> a = 10 in base 10\n",
    "        \n",
    "- n = b * (n // b) + n % b\n",
    "    -> n = (n // b) * b + n % b\n",
    "    - n = 232; b = 5\n",
    "        - (232 // 5) * 5 + 232 % 5 -> 46 * 5 + 2\n",
    "            - = $[46 * 5^1] + [2 * 5^0]$\n",
    "            - = $[((46 // 5) * 5 + 46 \\% 5) * 5^1] + [2 * 5^0]$\n",
    "            - = $[9 * 5^2] + [1 * 5^1] + [2 * 5^0]$\n",
    "            - ...\n",
    "            - -> 232 in base 10 = 1412 in base 5\n",
    "            \n",
    "- Bases and modulo operations are the SAME\n",
    "\n",
    "### Base Change Algorithm\n",
    "\n",
    "- n = base-10 \n",
    "- number(>= 0) \n",
    "- b = base (>= 2)\n",
    "- if b < 2 or n < 0: raise exception\n",
    "    - No negative bases\n",
    "- if n == 0: return [0]\n",
    "    - return digits as a list\n",
    "\n",
    "digits = []\n",
    "while n > 0:\n",
    "    m = n % b\n",
    "    n = n // b\n",
    "    digits.insert(0,m)\n",
    "        - inserting at the begining \n",
    "        - This is because we write the digits from right to left\n",
    "- We need a map to encode higher bases\n",
    "    - map with A-Z and a-z\n",
    "    - encoding map\n",
    "        - map = '...' (of length b)\n",
    "        - digits = [ ... ]\n",
    "        - encoding = map[digits[0]] + map[digits[1]] + ...\n",
    "        - Example\n",
    "            - map = '0123456789ABC'\n",
    "            - digits = [4, 11, 3, 12]\n",
    "                -> encoding = '4B3C'\n",
    "digits [ ... ]\n",
    "map = '...'\n",
    "\n",
    "encoding = ''\n",
    "for d in digits:\n",
    "    encoding += map[d]\n",
    "    (faster implementation would be):\n",
    "        -> encoding = ''.join([map[d] for d in digits])\n",
    "\n",
    "return encoding"
   ]
  },
  {
   "cell_type": "code",
   "execution_count": 17,
   "metadata": {},
   "outputs": [
    {
     "name": "stdout",
     "output_type": "stream",
     "text": [
      "Fractions: \n",
      "22/7\n",
      "\n",
      "\n",
      "FF representation in base 16:  255\n",
      "Binary number 5 -> bin(5)  0b101\n",
      "You can also input a binary in the following format -> b = 0b101 \n",
      " 5\n"
     ]
    }
   ],
   "source": [
    "import fractions\n",
    "print('Fractions: ')\n",
    "a = fractions.Fraction(22, 7)\n",
    "print(a)\n",
    "print('\\n')\n",
    "\n",
    "print('FF representation in base 16: ', int('FF',16))\n",
    "print('Binary number 5 -> bin(5) ', bin(5))\n",
    "\n",
    "b = 0b101\n",
    "print('You can also input a binary in the following format -> b = 0b101 \\n', b)\n"
   ]
  },
  {
   "cell_type": "code",
   "execution_count": 23,
   "metadata": {},
   "outputs": [],
   "source": [
    "def from_base10(n, b):\n",
    "    if b < 2:\n",
    "        raise ValueError('Base b must be >= 2')\n",
    "    if n < 0:\n",
    "        raise ValueError('Number n must be >= 0')\n",
    "    if n == 0:\n",
    "        return [0]\n",
    "    \n",
    "    digits = []\n",
    "    \n",
    "    while n > 0:\n",
    "        m = n % b\n",
    "        n = n // b\n",
    "        # OR\n",
    "        # m, n = n % b, n // b\n",
    "        # n, m = divmod(n, b) -> python function called divmod()\n",
    "        digits.insert(0,m)\n",
    "\n",
    "    return digits\n",
    "\n",
    "def encode(digits, digit_map):\n",
    "    if max(digits) >= len(digit_map):\n",
    "        raise ValueError('digit_map is not long enough to encode digits')\n",
    "    encoding = ''\n",
    "#     for d in digits:\n",
    "#         encoding += digit_map[d]\n",
    "    encoding = ''.join([digit_map[d] for d in digits])\n",
    "    return encoding"
   ]
  },
  {
   "cell_type": "code",
   "execution_count": 24,
   "metadata": {},
   "outputs": [
    {
     "name": "stdout",
     "output_type": "stream",
     "text": [
      "[15, 15]\n",
      "FF\n"
     ]
    }
   ],
   "source": [
    "print(from_base10(255,16))\n",
    "print(encode(from_base10(255,16),'0123456789ABCDEF'))"
   ]
  },
  {
   "cell_type": "code",
   "execution_count": 25,
   "metadata": {},
   "outputs": [],
   "source": [
    "def rebase_from10(number, base):\n",
    "    digit_map = '0123456789ABCDEFGHIJKLMNOPQRSTUVWXYZ'\n",
    "    \n",
    "    if base < 2 or base > 36:\n",
    "        raise ValueError(\"Base cannot be less than 2 or greater than 36\")\n",
    "    \n",
    "    sign = -1 if number < 0 else 1\n",
    "    number *= sign\n",
    "    \n",
    "    digits = from_base10(number, base)\n",
    "    encoding = encode(digits, digit_map)\n",
    "    \n",
    "    if sign == -1:\n",
    "        encoding = '-' + encoding\n",
    "    \n",
    "    return encoding"
   ]
  },
  {
   "cell_type": "code",
   "execution_count": 29,
   "metadata": {},
   "outputs": [
    {
     "name": "stdout",
     "output_type": "stream",
     "text": [
      "2KA8KN\n",
      "135495523\n"
     ]
    }
   ],
   "source": [
    "e = rebase_from10(135495523,35)\n",
    "print(e)\n",
    "print(int(e, base=35))"
   ]
  },
  {
   "cell_type": "code",
   "execution_count": 30,
   "metadata": {},
   "outputs": [
    {
     "name": "stdout",
     "output_type": "stream",
     "text": [
      "-2SL\n",
      "-3451\n"
     ]
    }
   ],
   "source": [
    "negative = rebase_from10(-3451,35)\n",
    "print(negative)\n",
    "print(int(negative, base=35))"
   ]
  },
  {
   "cell_type": "markdown",
   "metadata": {},
   "source": [
    "# Rational Numbers\n",
    "\n",
    "- Rational numbers are fractions of integers\n",
    "    - 0.45 -> 45/100\n",
    "    - 0.12345 -> 12345/100000\n",
    "    - 8.3/4 -> 84/40\n",
    "- These are examples of irrational numbers:\n",
    "    - pi\n",
    "    - sqrt(2)\n",
    "\n",
    "### The Fraction Class\n",
    "\n",
    "- Rational numbers can be represented in Python using the Fraction class in the fractions module\n",
    "    - from fractions import Fraction\n",
    "    - Fraction(numerator=0, denominator=1)\n",
    "        - x = Fraction(3,4) -> 3/4\n",
    "        - fractions are automatically reduced\n",
    "        - with arithmetic operations supported\n",
    "        - with properties:\n",
    "            - numerator\n",
    "            - denominator\n",
    "            - x.numerator; x.denominator\n",
    "- floats objects have a finite precision\n",
    "- Some float values are not exactly represented in python\n",
    "- The limit_denominator(max_denominator=number) limits the denominator\n",
    "- "
   ]
  },
  {
   "cell_type": "markdown",
   "metadata": {},
   "source": [
    "from fractions import Fraction\n",
    "\n",
    "a = Fraction(3,4)\n",
    "print('Fraction a:', a)\n",
    "\n",
    "b = Fraction('100/7')\n",
    "print('Fraction b:',b)\n",
    "print('a + b =', a+b)\n",
    "\n",
    "import math\n",
    "\n",
    "c = Fraction(math.pi)\n",
    "print('Pi represented as a fraction is:',c)\n",
    "c.limit_denominator(5000)\n",
    "print(c)"
   ]
  },
  {
   "cell_type": "code",
   "execution_count": 3,
   "metadata": {},
   "outputs": [
    {
     "name": "stdout",
     "output_type": "stream",
     "text": [
      "1/8\n",
      "5404319552844595/18014398509481984\n",
      "0.3 is stored as follows in python: 0.2999999999999999888977698\n"
     ]
    },
    {
     "data": {
      "text/plain": [
       "Fraction(5404319552844595, 18014398509481984)"
      ]
     },
     "execution_count": 3,
     "metadata": {},
     "output_type": "execute_result"
    }
   ],
   "source": [
    "a = 0.125\n",
    "b = 0.3\n",
    "\n",
    "print(Fraction(a))\n",
    "print(Fraction(b))\n",
    "print('0.3 is stored as follows in python:',format(b,'0.25f'))\n",
    "\n",
    "x = Fraction(0.3)\n",
    "x.limit_denominator(100)\n",
    "x"
   ]
  },
  {
   "cell_type": "markdown",
   "metadata": {},
   "source": [
    "# Floats: Internal Representations\n",
    "\n",
    "- Floats are represented by the float class"
   ]
  },
  {
   "cell_type": "code",
   "execution_count": 9,
   "metadata": {},
   "outputs": [
    {
     "name": "stdout",
     "output_type": "stream",
     "text": [
      "10.0\n",
      "<class 'float'>\n",
      "0.1 <class 'float'>\n",
      "22/7\n",
      "Fraction can be casted to float: 3.142857142857143\n"
     ]
    }
   ],
   "source": [
    "a = float(10)\n",
    "print(a)\n",
    "print(type(a))\n",
    "\n",
    "b = float('0.1')\n",
    "print(b, type(b))\n",
    "\n",
    "from fractions import Fraction\n",
    "c = Fraction('22/7')\n",
    "print(c)\n",
    "print('Fraction can be casted to float:',float(c))"
   ]
  },
  {
   "cell_type": "code",
   "execution_count": 18,
   "metadata": {},
   "outputs": [
    {
     "name": "stdout",
     "output_type": "stream",
     "text": [
      "0.1 is not exactly 0.1 -> 0.1000000000000000055511151\n",
      "0.125\n"
     ]
    }
   ],
   "source": [
    "print('0.1 is not exactly 0.1 ->',format(0.1,'0.25f'))\n",
    "print(format(0.125,'0.50'))"
   ]
  },
  {
   "cell_type": "markdown",
   "metadata": {},
   "source": [
    "# Floats: Equality Testing\n",
    "\n",
    "- We have two ways of comparing floats\n",
    "    - rounding\n",
    "        - rounding only does an absolute tolerance check\n",
    "        - the best way of comparing is by the isclose() method that will compare both absolute tolerance and relative tolerance            \n",
    "    - isclose() method from math\n",
    "        - from math import isclose\n",
    "        - isclose(x,y,abs_tol=0.001,rel_tol=0.01)"
   ]
  },
  {
   "cell_type": "code",
   "execution_count": 22,
   "metadata": {},
   "outputs": [
    {
     "name": "stdout",
     "output_type": "stream",
     "text": [
      "0.1000000000000000055511151\n",
      "0.1250000000000000000000000\n",
      "Strange that a and b are not equal:  False\n"
     ]
    }
   ],
   "source": [
    "x = 0.1\n",
    "print(format(x, '0.25f'))\n",
    "\n",
    "y = 0.125\n",
    "print(format(y,'0.25f'))\n",
    "\n",
    "a = 0.1 + 0.1 + 0.1\n",
    "b = 0.3\n",
    "\n",
    "print('Strange that a and b are not equal: ', a == b)"
   ]
  },
  {
   "cell_type": "code",
   "execution_count": 24,
   "metadata": {},
   "outputs": [
    {
     "name": "stdout",
     "output_type": "stream",
     "text": [
      "a and b are now equal with round() -> True\n"
     ]
    }
   ],
   "source": [
    "a = 0.1 + 0.1 + 0.1\n",
    "b = 0.3\n",
    "\n",
    "print('a and b are now equal with round() ->',round(a,3) == round(b,3))"
   ]
  },
  {
   "cell_type": "code",
   "execution_count": 29,
   "metadata": {},
   "outputs": [
    {
     "name": "stdout",
     "output_type": "stream",
     "text": [
      "True\n",
      "True\n"
     ]
    }
   ],
   "source": [
    "x = 10000.01\n",
    "y = 10000.02\n",
    "\n",
    "a = 0.1 + 0.1 + 0.1\n",
    "b = 0.3\n",
    "\n",
    "from math import isclose\n",
    "\n",
    "print(isclose(a, b))\n",
    "print(isclose(x, y,rel_tol=0.01))"
   ]
  },
  {
   "cell_type": "code",
   "execution_count": 30,
   "metadata": {},
   "outputs": [
    {
     "name": "stdout",
     "output_type": "stream",
     "text": [
      "True\n",
      "True\n"
     ]
    }
   ],
   "source": [
    "x = 0.000000000001\n",
    "y = 0.000000000002\n",
    "\n",
    "a = 123456789.01\n",
    "b = 123456789.02\n",
    "\n",
    "print(isclose(x,y,abs_tol=0.001,rel_tol=0.01))\n",
    "print(isclose(a,b,abs_tol=0.001,rel_tol=0.01))"
   ]
  },
  {
   "cell_type": "markdown",
   "metadata": {},
   "source": [
    "# Floats: Coercing to Integers\n",
    "\n",
    "- Truncation\n",
    "    - Takes a real number and converts it to an int\n",
    "    - Similar to passing a real number into int()\n",
    "- Cealing\n",
    "    - returns the next integer\n",
    "    - returns the smallest integer that is greater than or equal to the number\n",
    "- Floor\n",
    "    - floor is similar to trunc but the difference is when it comes to negative numbers\n",
    "    - When numbers are negative floor returns the lower number \n",
    "        - -10.1 -> -11"
   ]
  },
  {
   "cell_type": "code",
   "execution_count": 35,
   "metadata": {},
   "outputs": [
    {
     "name": "stdout",
     "output_type": "stream",
     "text": [
      "10 10 10\n",
      "-10 -10 -10\n",
      "10 10 10\n"
     ]
    }
   ],
   "source": [
    "from math import trunc\n",
    "\n",
    "print(trunc(10.3), trunc(10.5), trunc(10.9))\n",
    "print(trunc(-10.3), trunc(-10.5), trunc(-10.9))\n",
    "print(int(10.3), int(10.5), int(10.9))"
   ]
  },
  {
   "cell_type": "code",
   "execution_count": 37,
   "metadata": {},
   "outputs": [
    {
     "name": "stdout",
     "output_type": "stream",
     "text": [
      "10 10 10\n",
      "-11 -11 -11\n"
     ]
    }
   ],
   "source": [
    "from math import floor\n",
    "print(floor(10.3), floor(10.5), floor(10.9))\n",
    "print(floor(-10.1), floor(-10.5), floor(-10.9))"
   ]
  },
  {
   "cell_type": "code",
   "execution_count": 39,
   "metadata": {},
   "outputs": [
    {
     "name": "stdout",
     "output_type": "stream",
     "text": [
      "11 11 11\n",
      "-10 -10 -10\n"
     ]
    }
   ],
   "source": [
    "from math import ceil\n",
    "\n",
    "print(ceil(10.3), ceil(10.5), ceil(10.9))\n",
    "print(ceil(-10.1), ceil(-10.5), ceil(-10.9))"
   ]
  },
  {
   "cell_type": "code",
   "execution_count": 43,
   "metadata": {},
   "outputs": [
    {
     "name": "stdout",
     "output_type": "stream",
     "text": [
      "True\n",
      "True\n"
     ]
    }
   ],
   "source": [
    "print(trunc(-10.1) == ceil(-10.3))\n",
    "print(trunc(-10.0) == ceil(-10.3))"
   ]
  },
  {
   "cell_type": "markdown",
   "metadata": {},
   "source": [
    "# Floats: Rounding\n",
    "\n",
    "- The round() function is built into python\n",
    "- round(x, n=0)\n",
    "    - x-> number to be rounded\n",
    "    - n -> multiple of 10 to be rounded to\n",
    "        - default = 0"
   ]
  },
  {
   "cell_type": "code",
   "execution_count": 51,
   "metadata": {},
   "outputs": [
    {
     "name": "stdout",
     "output_type": "stream",
     "text": [
      "Rounded number a:  2 \n",
      "Class: <class 'int'>\n",
      "Rounded number b:  1.99 \n",
      "Class: <class 'float'>\n"
     ]
    }
   ],
   "source": [
    "a = round(1.9)\n",
    "print('Rounded number a: ',a,'\\nClass:', type(a))\n",
    "\n",
    "\n",
    "b = round(1.98898,2)\n",
    "print('Rounded number b: ',b,'\\nClass:', type(b))"
   ]
  },
  {
   "cell_type": "code",
   "execution_count": 54,
   "metadata": {},
   "outputs": [
    {
     "name": "stdout",
     "output_type": "stream",
     "text": [
      "Rounding\n",
      "1.889 1.89 1.9 2.0\n"
     ]
    }
   ],
   "source": [
    "print('Rounding')\n",
    "print(round(1.8888,3), round(1.8888,2), round(1.8888,1), round(1.8888,0))"
   ]
  },
  {
   "cell_type": "code",
   "execution_count": 56,
   "metadata": {},
   "outputs": [
    {
     "name": "stdout",
     "output_type": "stream",
     "text": [
      "For n<0\n",
      "888.9 889.0 890.0 900.0 1000.0 0.0\n"
     ]
    }
   ],
   "source": [
    "print('For n<0')\n",
    "print(round(888.88,1), round(888.88,0),\\\n",
    "     round(888.88,-1), round(888.88,-2), round(888.88,-3),\\\n",
    "     round(888.88,-4))"
   ]
  },
  {
   "cell_type": "code",
   "execution_count": 2,
   "metadata": {},
   "outputs": [
    {
     "name": "stdout",
     "output_type": "stream",
     "text": [
      "10000\n",
      "0\n"
     ]
    }
   ],
   "source": [
    "print(round(9800,-4))\n",
    "print(round(800,-4))"
   ]
  },
  {
   "cell_type": "code",
   "execution_count": 6,
   "metadata": {},
   "outputs": [
    {
     "name": "stdout",
     "output_type": "stream",
     "text": [
      "Ties\n",
      "Rounding is done to the nearest even digit\n",
      "1.2\n",
      "1.4\n",
      "Even in negative numbers:\n",
      "-1.2 -1.4\n"
     ]
    }
   ],
   "source": [
    "print(\"Ties\")\n",
    "print(\"Rounding is done to the nearest even digit\")\n",
    "\n",
    "print(round(1.25,1))\n",
    "print(round(1.35,1))\n",
    "\n",
    "print(\"Even in negative numbers:\")\n",
    "print(round(-1.25,1), round(-1.35,1))"
   ]
  },
  {
   "cell_type": "code",
   "execution_count": 19,
   "metadata": {},
   "outputs": [],
   "source": [
    "\"\"\"\n",
    "If you want to define a function similar to functions implemented\n",
    "by python: then put _ before it:\n",
    "\"\"\"\n",
    "def _round(x):\n",
    "    from math import copysign\n",
    "    return int(x + 0.5 * copysign(1,x))"
   ]
  },
  {
   "cell_type": "code",
   "execution_count": 21,
   "metadata": {},
   "outputs": [
    {
     "name": "stdout",
     "output_type": "stream",
     "text": [
      "Built in method for 2.5: -> 2\n",
      "Implemented method for 2.5: -> 3\n",
      "-2 -3\n"
     ]
    }
   ],
   "source": [
    "print(\"Built in method for 2.5: ->\", round(2.5))\n",
    "print(\"Implemented method for 2.5: ->\", _round(2.5))\n",
    "print(round(-2.5),_round(-2.5))"
   ]
  },
  {
   "cell_type": "code",
   "execution_count": 13,
   "metadata": {},
   "outputs": [
    {
     "name": "stdout",
     "output_type": "stream",
     "text": [
      "Help on built-in function copysign in module math:\n",
      "\n",
      "copysign(...)\n",
      "    copysign(x, y)\n",
      "    \n",
      "    Return a float with the magnitude (absolute value) of x but the sign \n",
      "    of y. On platforms that support signed zeros, copysign(1.0, -0.0) \n",
      "    returns -1.0.\n",
      "\n"
     ]
    }
   ],
   "source": [
    "from math import copysign\n",
    "help(copysign)"
   ]
  },
  {
   "cell_type": "markdown",
   "metadata": {},
   "source": [
    "# Decimals\n",
    "\n",
    "- The **decimal** module\n",
    "- float 0.1 -> infinite binary expansion\n",
    "    - no exact representation in memory but 0.1 is finite\n",
    "    \n",
    "- How to represent a decimal exactly in python?\n",
    "    - Why not use the Fraction class?\n",
    "    - This increases complexity and memory during operation\n",
    "    \n",
    "- The use of decimals allows one to specify numbers with well defined precision\n",
    "    - import decimal\n",
    "        - decimal.getcontext()\n",
    "        - decimal.localcontext(ctx=None)\n",
    "        - ctx.prec -> get or set the precision\n",
    "        - ctx.rounding -> get or set the rounding mechanism\n",
    "            - Severl rounding algorithms available\n",
    "        \n",
    "- Context managers manage things automatically "
   ]
  },
  {
   "cell_type": "code",
   "execution_count": 22,
   "metadata": {},
   "outputs": [],
   "source": [
    "import decimal\n",
    "from decimal import Decimal"
   ]
  },
  {
   "cell_type": "code",
   "execution_count": 23,
   "metadata": {},
   "outputs": [
    {
     "data": {
      "text/plain": [
       "Context(prec=28, rounding=ROUND_HALF_EVEN, Emin=-999999, Emax=999999, capitals=1, clamp=0, flags=[], traps=[InvalidOperation, DivisionByZero, Overflow])"
      ]
     },
     "execution_count": 23,
     "metadata": {},
     "output_type": "execute_result"
    }
   ],
   "source": [
    "decimal.getcontext()"
   ]
  },
  {
   "cell_type": "code",
   "execution_count": 26,
   "metadata": {},
   "outputs": [
    {
     "name": "stdout",
     "output_type": "stream",
     "text": [
      "28\n",
      "ROUND_HALF_EVEN\n"
     ]
    }
   ],
   "source": [
    "print(decimal.getcontext().prec)\n",
    "print(decimal.getcontext().rounding)"
   ]
  },
  {
   "cell_type": "code",
   "execution_count": 27,
   "metadata": {},
   "outputs": [
    {
     "name": "stdout",
     "output_type": "stream",
     "text": [
      "6\n"
     ]
    }
   ],
   "source": [
    "decimal.getcontext().prec = 6\n",
    "print(decimal.getcontext().prec)"
   ]
  },
  {
   "cell_type": "code",
   "execution_count": 28,
   "metadata": {},
   "outputs": [
    {
     "data": {
      "text/plain": [
       "decimal.Context"
      ]
     },
     "execution_count": 28,
     "metadata": {},
     "output_type": "execute_result"
    }
   ],
   "source": [
    "g_ctx = decimal.getcontext()\n",
    "type(g_ctx)"
   ]
  },
  {
   "cell_type": "code",
   "execution_count": 32,
   "metadata": {},
   "outputs": [
    {
     "data": {
      "text/plain": [
       "str"
      ]
     },
     "execution_count": 32,
     "metadata": {},
     "output_type": "execute_result"
    }
   ],
   "source": [
    "g_ctx.rounding = decimal.ROUND_HALF_UP\n",
    "type(decimal.ROUND_HALF_UP)"
   ]
  },
  {
   "cell_type": "code",
   "execution_count": 33,
   "metadata": {},
   "outputs": [
    {
     "data": {
      "text/plain": [
       "Context(prec=6, rounding=ROUND_HALF_UP, Emin=-999999, Emax=999999, capitals=1, clamp=0, flags=[], traps=[InvalidOperation, DivisionByZero, Overflow])"
      ]
     },
     "execution_count": 33,
     "metadata": {},
     "output_type": "execute_result"
    }
   ],
   "source": [
    "decimal.getcontext()"
   ]
  },
  {
   "cell_type": "code",
   "execution_count": 34,
   "metadata": {},
   "outputs": [],
   "source": [
    "g_ctx.prec = 28\n",
    "g_ctx.rounding = decimal.ROUND_HALF_EVEN"
   ]
  },
  {
   "cell_type": "code",
   "execution_count": 35,
   "metadata": {},
   "outputs": [
    {
     "data": {
      "text/plain": [
       "Context(prec=28, rounding=ROUND_HALF_EVEN, Emin=-999999, Emax=999999, capitals=1, clamp=0, flags=[], traps=[InvalidOperation, DivisionByZero, Overflow])"
      ]
     },
     "execution_count": 35,
     "metadata": {},
     "output_type": "execute_result"
    }
   ],
   "source": [
    "decimal.getcontext()"
   ]
  },
  {
   "cell_type": "code",
   "execution_count": 36,
   "metadata": {},
   "outputs": [
    {
     "data": {
      "text/plain": [
       "decimal.ContextManager"
      ]
     },
     "execution_count": 36,
     "metadata": {},
     "output_type": "execute_result"
    }
   ],
   "source": [
    "type(decimal.localcontext())"
   ]
  },
  {
   "cell_type": "code",
   "execution_count": 37,
   "metadata": {},
   "outputs": [
    {
     "data": {
      "text/plain": [
       "decimal.Context"
      ]
     },
     "execution_count": 37,
     "metadata": {},
     "output_type": "execute_result"
    }
   ],
   "source": [
    "type(decimal.getcontext())"
   ]
  },
  {
   "cell_type": "code",
   "execution_count": 39,
   "metadata": {},
   "outputs": [
    {
     "name": "stdout",
     "output_type": "stream",
     "text": [
      "Context(prec=28, rounding=ROUND_HALF_EVEN, Emin=-999999, Emax=999999, capitals=1, clamp=0, flags=[], traps=[InvalidOperation, DivisionByZero, Overflow])\n",
      "<class 'decimal.Context'>\n"
     ]
    }
   ],
   "source": [
    "with decimal.localcontext() as ctx:\n",
    "    print(ctx)\n",
    "    print(type(ctx))"
   ]
  },
  {
   "cell_type": "code",
   "execution_count": 52,
   "metadata": {},
   "outputs": [
    {
     "name": "stdout",
     "output_type": "stream",
     "text": [
      "False\n"
     ]
    }
   ],
   "source": [
    "with decimal.localcontext() as ctx:\n",
    "    ctx.prec = 6\n",
    "    ctx.rounding = decimal.ROUND_HALF_UP\n",
    "    print(id(ctx) == decimal.getcontext())"
   ]
  },
  {
   "cell_type": "code",
   "execution_count": 46,
   "metadata": {},
   "outputs": [],
   "source": [
    "x = Decimal('1.25')\n",
    "y = Decimal('1.35')"
   ]
  },
  {
   "cell_type": "code",
   "execution_count": 50,
   "metadata": {},
   "outputs": [
    {
     "name": "stdout",
     "output_type": "stream",
     "text": [
      "1.3\n",
      "1.4\n",
      "\n",
      "Module Level:\n",
      "1.2\n",
      "1.4\n"
     ]
    }
   ],
   "source": [
    "with decimal.localcontext() as ctx:\n",
    "    ctx.prec = 6\n",
    "    ctx.rounding = decimal.ROUND_HALF_UP\n",
    "    print(round(x,1))\n",
    "    print(round(y,1))\n",
    "\n",
    "    \n",
    "print('\\nModule Level:')\n",
    "print(round(x,1))\n",
    "print(round(y,1))"
   ]
  },
  {
   "cell_type": "markdown",
   "metadata": {},
   "source": [
    "# Decimals: Constructors and Contexts\n",
    "\n",
    "- The Decimal class in the decimal module"
   ]
  },
  {
   "cell_type": "code",
   "execution_count": 1,
   "metadata": {},
   "outputs": [],
   "source": [
    "import decimal\n",
    "from decimal import Decimal"
   ]
  },
  {
   "cell_type": "code",
   "execution_count": 8,
   "metadata": {},
   "outputs": [
    {
     "name": "stdout",
     "output_type": "stream",
     "text": [
      "False\n",
      "This is due to representaiton, string vs. float\n"
     ]
    }
   ],
   "source": [
    "a = Decimal('0.1')\n",
    "b = Decimal(0.1)\n",
    "print(a == b)\n",
    "print(\"This is due to representaiton, string vs. float\")"
   ]
  },
  {
   "cell_type": "code",
   "execution_count": 16,
   "metadata": {},
   "outputs": [
    {
     "name": "stdout",
     "output_type": "stream",
     "text": [
      "c within the global context: 0.24690\n",
      "c within the local context: 0.25\n"
     ]
    }
   ],
   "source": [
    "decimal.getcontext().prec = 6\n",
    "a = Decimal('0.12345')\n",
    "b = Decimal('0.12345')\n",
    "c = a + b\n",
    "print('c within the global context: {0}'.format(a + b))\n",
    "with decimal.localcontext() as ctx:\n",
    "    ctx.prec = 2\n",
    "    c = a + b\n",
    "    print('c within the local context: {0}'.format(c))\n",
    "    "
   ]
  },
  {
   "cell_type": "markdown",
   "metadata": {},
   "source": [
    "# Complex Numbers\n",
    "\n",
    "- Complex numbers are implemented in python using the built-in complex class\n",
    "    - complex(x,y)\n",
    "        - x -> real part\n",
    "        - y -> imaginary part\n",
    "- Complex numbers have their real and imaginary parts stored as floats\n",
    "- Complex numbers cannot be % mod or // div, thus neigher divmod\n",
    "- Equality operators can be used but they have the same caviats as comparing with floats\n",
    "- cmath library is used for operations involving complex numbers"
   ]
  },
  {
   "cell_type": "code",
   "execution_count": 21,
   "metadata": {},
   "outputs": [
    {
     "name": "stdout",
     "output_type": "stream",
     "text": [
      "True\n",
      "(1+2j)\n",
      "1.0 <class 'float'>\n",
      "2.0 <class 'float'>\n"
     ]
    }
   ],
   "source": [
    "a = complex(1,2)\n",
    "b = 1 + 2j\n",
    "\n",
    "print(a == b)\n",
    "print(a)\n",
    "print(a.real, type(a.real))\n",
    "print(a.imag, type(a.imag))"
   ]
  },
  {
   "cell_type": "code",
   "execution_count": 25,
   "metadata": {},
   "outputs": [
    {
     "name": "stdout",
     "output_type": "stream",
     "text": [
      "(1-2j)\n",
      "\n",
      "Addition of a and b\n",
      "(2+4j)\n"
     ]
    }
   ],
   "source": [
    "print(a.conjugate())\n",
    "print('\\nAddition of a and b')\n",
    "print(a + b)"
   ]
  },
  {
   "cell_type": "code",
   "execution_count": 28,
   "metadata": {},
   "outputs": [
    {
     "name": "stdout",
     "output_type": "stream",
     "text": [
      "0.1000000000000000055511151\n",
      "False\n"
     ]
    }
   ],
   "source": [
    "a = 0.1j\n",
    "print(format(a.imag, '0.25f'))\n",
    "print(a + a + a == 0.3j)"
   ]
  },
  {
   "cell_type": "code",
   "execution_count": 32,
   "metadata": {},
   "outputs": [
    {
     "name": "stdout",
     "output_type": "stream",
     "text": [
      "3.141592653589793\n",
      "<class 'float'>\n",
      "(1.272019649514069+0.7861513777574233j)\n"
     ]
    }
   ],
   "source": [
    "import cmath\n",
    "import math\n",
    "\n",
    "print(cmath.pi)\n",
    "print(type(cmath.pi))\n",
    "a = 1 + 2j\n",
    "print(cmath.sqrt(a))"
   ]
  },
  {
   "cell_type": "code",
   "execution_count": 36,
   "metadata": {},
   "outputs": [
    {
     "name": "stdout",
     "output_type": "stream",
     "text": [
      "a is a complex number at a 45 degree angle: (1+1j)\n",
      "Phase of a is: 0.7853981633974483\n",
      "The rectangular form is found with the abs() function: 1.4142135623730951\n",
      "The polar form (from rectangular form) is found with the cmath.rect function: (1.0000000000000002+1.0000000000000002j)\n"
     ]
    }
   ],
   "source": [
    "a = 1 + 1j\n",
    "print('a is a complex number at a 45 degree angle: {0}'.format(a))\n",
    "print('Phase of a is: {0}'.format(cmath.phase(a)))\n",
    "print('The rectangular form is found with the abs() function: {0}'.format(abs(a)))\n",
    "print('The polar form (from rectangular form) is found with the cmath.rect function: {0}'.format(cmath.rect(math.sqrt(2), math.pi/4)))\n"
   ]
  },
  {
   "cell_type": "code",
   "execution_count": 43,
   "metadata": {},
   "outputs": [
    {
     "name": "stdout",
     "output_type": "stream",
     "text": [
      "Eulers identity e^jpi + 1 = 0\n",
      "(-1+1.2246467991473532e-16j)\n",
      "1.2246467991473532e-16j\n",
      "Not exactly zero but very close\n",
      "False\n",
      "True\n"
     ]
    }
   ],
   "source": [
    "print(\"Eulers identity e^jpi + 1 = 0\")\n",
    "RHS = cmath.exp(cmath.pi * 1j)\n",
    "print(RHS)\n",
    "RHS = cmath.exp(complex(0, math.pi)) + 1\n",
    "print(RHS)\n",
    "print(\"Not exactly zero but very close\")\n",
    "\n",
    "print(cmath.isclose(RHS, 0))\n",
    "\n",
    "print(cmath.isclose(RHS, 0, abs_tol=0.0001))"
   ]
  },
  {
   "cell_type": "markdown",
   "metadata": {},
   "source": [
    "# Booleans\n",
    "\n",
    "- The bool class implements booleans in python\n",
    "- The bool class is a subclass of the int class\n",
    "    - issubclass(bool,int) -> True\n",
    "    - isinstance(True, bool) -> True\n",
    "    - isinstance(True, int) -> True\n",
    "- Booleans are singelton objects\n",
    "    - This means every instance points to the same object in memory\n",
    "    - This is during the lifetime of the application\n",
    "- is and == are the same in booleans due to the singelton nature of bool\n",
    "- Booleans can be casted to integers\n",
    "    - int(True) -> 1\n",
    "- However, True and 1 are not the same objects\n",
    "    - They have the same value but live at different addresses\n",
    "    - id(True) != id(1) -> True\n",
    "    - True is 1 -> False\n",
    "        - Remember: is checks if memory addresses are the same\n",
    "- True > False -> True\n",
    "- (1 == 2) == False -> True\n",
    "    - (1 == 2) == 0 -> True\n",
    "- Any integer operation will also work with booleans\n",
    "    - True + True + True = 3\n",
    "- bool(x)\n",
    "    - returns True if x is True\n",
    "    - False otherwise\n",
    "    - bool(x) -> True for any int x != 0\n",
    "- Many classes contain a definition of how to cast instances of themselves to a Boolean\n",
    "    - This is sometimes called the truth value or truthyness of an object\n",
    "\n"
   ]
  },
  {
   "cell_type": "code",
   "execution_count": 47,
   "metadata": {},
   "outputs": [
    {
     "data": {
      "text/plain": [
       "True"
      ]
     },
     "execution_count": 47,
     "metadata": {},
     "output_type": "execute_result"
    }
   ],
   "source": [
    "issubclass(bool, int)"
   ]
  },
  {
   "cell_type": "code",
   "execution_count": 49,
   "metadata": {},
   "outputs": [
    {
     "data": {
      "text/plain": [
       "(bool, 1720905888, 1, bool, 1720905888, True)"
      ]
     },
     "execution_count": 49,
     "metadata": {},
     "output_type": "execute_result"
    }
   ],
   "source": [
    "type(True), id(True), int(True), type(3 < 4), id(3 < 4), (3 < 4) is True"
   ]
  },
  {
   "cell_type": "markdown",
   "metadata": {},
   "source": [
    "# Booleans: Truth Values"
   ]
  }
 ],
 "metadata": {
  "kernelspec": {
   "display_name": "Python 3",
   "language": "python",
   "name": "python3"
  },
  "language_info": {
   "codemirror_mode": {
    "name": "ipython",
    "version": 3
   },
   "file_extension": ".py",
   "mimetype": "text/x-python",
   "name": "python",
   "nbconvert_exporter": "python",
   "pygments_lexer": "ipython3",
   "version": "3.6.5"
  }
 },
 "nbformat": 4,
 "nbformat_minor": 2
}
