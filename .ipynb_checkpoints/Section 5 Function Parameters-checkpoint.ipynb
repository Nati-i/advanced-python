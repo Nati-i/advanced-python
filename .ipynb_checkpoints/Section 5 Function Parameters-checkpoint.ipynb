{
 "cells": [
  {
   "cell_type": "markdown",
   "metadata": {},
   "source": [
    "# Introduction\n",
    "\n",
    "    - Arguments vs Parameters\n",
    "    - Positional vs Keyword-Only Arguments\n",
    "    - Optional Arguments via Defaults\n",
    "    - Unpaking Iterables and Function Arguments\n",
    "    - Extended Unpacking\n",
    "    - Variable Number of Positional and Keyword-Only Arguments"
   ]
  },
  {
   "cell_type": "markdown",
   "metadata": {},
   "source": [
    "# Argument vs Parameter\n",
    "\n",
    "-> def my_func(a, b):\n",
    "    # code here\n",
    "    - a and b are called parameters of my_func\n",
    "    - a and b are variables local to my_func\n",
    "-> x = 10' y = 'a'\n",
    "    - x and y are called arguments of my_func\n",
    "    - x and y are passed by reference\n",
    "        - memory addresses of x and y are passed\n",
    "\n",
    "- Module Scope\n",
    "    - x is a pointer to object 10\n",
    "    - y is a pointer to object 'a'\n",
    "\n",
    "![title](img/argument-vs-parameter.PNG)\n",
    "\n",
    "\n",
    "# Positional and Keyword Arguments\n",
    "\n",
    "-> Arguments are assigned via the order in which they are passed to the function\n",
    "\n",
    "-> Default values\n",
    "    - A default value for a parameter makes it optional\n",
    "    - my_func(a, b=100, c)\n",
    "        # code\n",
    "        -> This will not work\n",
    "    - my_func(5, 25)?\n",
    "        -> This will not work\n",
    "    - my_func(a, b=100)\n",
    "        - my_func(5) -> a = 5, b = 100\n",
    "    - my_func(a, b=5, c=10) -> This works\n",
    "\n",
    "-> Keyword Arguments\n",
    "    - my_func(a=1, c=2) -> a = 1; b = 5; c = 2;\n",
    "    - If you use keyword arguments, then order does not matter\n",
    "    - Once you use a named argument, all arguments thereafter must be named too\n",
    "    "
   ]
  },
  {
   "cell_type": "code",
   "execution_count": 6,
   "metadata": {},
   "outputs": [],
   "source": [
    "def my_func(a, b=2, c=3):\n",
    "    print('a={0}, b={1}, c={2}'.format(a,b,c))"
   ]
  },
  {
   "cell_type": "code",
   "execution_count": 8,
   "metadata": {},
   "outputs": [
    {
     "name": "stdout",
     "output_type": "stream",
     "text": [
      "a=30, b=20, c=10\n",
      "a=10, b=20, c=30\n",
      "a=10, b=2, c=30\n"
     ]
    }
   ],
   "source": [
    "my_func(a=30,b=20,c=10)\n",
    "my_func(c=30,b=20,a=10)\n",
    "my_func(10, c=30)"
   ]
  },
  {
   "cell_type": "markdown",
   "metadata": {},
   "source": [
    "# Unpacking Iterables\n",
    "\n",
    "-> Tuples\n",
    "    - In Python a tuple is defined with a comma\n",
    "        1, 2, 3 -> (1,2,3)\n",
    "        (1) -> int(1)\n",
    "         1, -> (1) which is a tuple\n",
    "         () -> this creates an empty tuple\n",
    "\n",
    "-> Packed values\n",
    "    - Values that are bundled together\n",
    "        - Tuples\n",
    "        - Lists\n",
    "        - Strings\n",
    "        - Sets \n",
    "        - Dictionaries\n",
    "    - Any iterable is considered a packed value\n",
    "\n",
    "-> Unpacking values:\n",
    "    - unpacking is the act of splitting packed values into individual variables contained in a list or tuple\n",
    "    a, b, c = [1, 2, 3]\n",
    "        a = 1; b = 2; c = 3\n",
    "    - This is like assigning positional arguments to parameters in a function\n",
    "    - A tuple can be unpacked into another tuple\n",
    "    a, b, c = 10, 20, 'hello'\n",
    "    a, b, c = 'XYZ' -> a = 'X' ..\n",
    "    - Unpacking works with any iterable type\n",
    "\n",
    "-> Applications of unpacking\n",
    "    - swapping values of two variables\n",
    "         a, b = b, a\n",
    "             - this works because the entire RHS is evaluated first and completely\n",
    "            - Then assignments are made to the LHS\n",
    "    - unpacking sets and dictionaries"
   ]
  },
  {
   "cell_type": "code",
   "execution_count": 11,
   "metadata": {},
   "outputs": [
    {
     "name": "stdout",
     "output_type": "stream",
     "text": [
      "a is an empty tupele: <class 'tuple'>\n"
     ]
    }
   ],
   "source": [
    "a = ()\n",
    "print('a is an empty tupele:',type(a))"
   ]
  },
  {
   "cell_type": "code",
   "execution_count": 15,
   "metadata": {},
   "outputs": [
    {
     "name": "stdout",
     "output_type": "stream",
     "text": [
      "10 20\n",
      "1719168352 1719168672\n",
      "20 10\n",
      "1719168672 1719168352\n"
     ]
    }
   ],
   "source": [
    "a, b = 10, 20\n",
    "print(a, b)\n",
    "print(id(a), id(b))\n",
    "a, b = b, a\n",
    "print(a, b)\n",
    "print(id(a), id(b))"
   ]
  },
  {
   "cell_type": "code",
   "execution_count": 17,
   "metadata": {},
   "outputs": [
    {
     "name": "stdout",
     "output_type": "stream",
     "text": [
      "b c d a\n"
     ]
    }
   ],
   "source": [
    "d = {\n",
    "    'a':1,\n",
    "    'b':2,\n",
    "    'c':3,\n",
    "    'd':4\n",
    "}\n",
    "\n",
    "d, a, b, c = d\n",
    "print(a, b, c, d)"
   ]
  },
  {
   "cell_type": "code",
   "execution_count": 20,
   "metadata": {},
   "outputs": [
    {
     "name": "stdout",
     "output_type": "stream",
     "text": [
      "a : 1\n",
      "b : 2\n",
      "c : 3\n",
      "d : 4\n",
      "1 2 3 4\n"
     ]
    }
   ],
   "source": [
    "d = {\n",
    "    'a':1,\n",
    "    'b':2,\n",
    "    'c':3,\n",
    "    'd':4\n",
    "}\n",
    "\n",
    "for key, value in d.items():\n",
    "    print(key,':',value)\n",
    "\n",
    "a, b, c, d = d.values()\n",
    "print(a, b, c, d)"
   ]
  },
  {
   "cell_type": "markdown",
   "metadata": {},
   "source": [
    "# Extended Unpacking\n",
    "\n",
    "-> The use case for *\n",
    "    - python >= 3.5\n",
    "    - Used to unpack the first value and then unpack the remaining into another\n",
    "    a, *b = any_iterable\n",
    "    - This applies to any iterable\n",
    "    - Remember indexing will not work for sets\n",
    "    - * will return a list!\n",
    "    - This operator can also be used for LHS\n",
    "\n",
    "-> Usage of unorderedtypes\n",
    "    - In sets ordering is not preserved\n",
    "    - The * operator would still work in a set\n",
    "        - since it is an iterable\n",
    "    - Keep in mind, however, that iterating might result in an order that you might not expect, infact an unpredictable order\n",
    "    - l = [*d1, *d2, *d3] -> list of keys in the three dictionaries\n",
    "    - s = {*d1, *d2, *d3} -> repeated keys are omitted\n",
    "    - How can we unpack key-value pairs?\n",
    "        - use the double star operator **\n",
    "    - d = {**d1, **d2, **d3}\n",
    "        - This is a quick and easy way to merge dictionaries **\n",
    "        - Beware of overriding keys and values\n",
    "    - The double star operator cannot be used on the left side of an equality\n",
    "    - Also possible:\n",
    "        - d1 = {'a': 1, 'c':3, **d1}\n",
    "        \n",
    "-> Nested unpacking\n",
    "    - Nested list -> l = [1, 2, [3, 4]]\n",
    "        -> a, b, (c, d) = [1, 2, [3, 4]]\n",
    "            - a = 1; b = 2; c = 3; d = 4\n",
    "    - Same can be used for strings\n",
    "        -> a, *b, (c, d, e) = [1, 2, 3, 'XYZ']\n",
    "            a = 1; b = [2, 3]; c = 'X'; d = 'Y'; e = 'Z'\n",
    "    - We can only use * once in LHS, however, the following works during nesting\n",
    "        -> a, *b, (c, *d) = [1, 2, 3, 'python']\n",
    "\n",
    "- Don't hardcode values during unpacking so that your code is more robust"
   ]
  },
  {
   "cell_type": "code",
   "execution_count": 22,
   "metadata": {},
   "outputs": [],
   "source": [
    "l = [1, 2, 3, 4, 5, 6]"
   ]
  },
  {
   "cell_type": "code",
   "execution_count": 23,
   "metadata": {},
   "outputs": [
    {
     "name": "stdout",
     "output_type": "stream",
     "text": [
      "1\n",
      "[2, 3, 4, 5, 6]\n"
     ]
    }
   ],
   "source": [
    "a = l[0]\n",
    "b = l[1:]\n",
    "print(a)\n",
    "print(b)"
   ]
  },
  {
   "cell_type": "code",
   "execution_count": 24,
   "metadata": {},
   "outputs": [
    {
     "name": "stdout",
     "output_type": "stream",
     "text": [
      "1 [2, 3, 4, 5, 6]\n"
     ]
    }
   ],
   "source": [
    "a, b = l[0], l[1:]\n",
    "print(a, b)"
   ]
  },
  {
   "cell_type": "code",
   "execution_count": 26,
   "metadata": {},
   "outputs": [
    {
     "name": "stdout",
     "output_type": "stream",
     "text": [
      "1\n",
      "[2, 3, 4, 5, 6]\n"
     ]
    }
   ],
   "source": [
    "a, *b = l\n",
    "print(a)\n",
    "print(b)"
   ]
  },
  {
   "cell_type": "code",
   "execution_count": 27,
   "metadata": {},
   "outputs": [
    {
     "name": "stdout",
     "output_type": "stream",
     "text": [
      "p \n",
      " [2, 3, 4, 5, 6]\n"
     ]
    }
   ],
   "source": [
    "s = 'python'\n",
    "a, *p = s\n",
    "print(a, '\\n', b)"
   ]
  },
  {
   "cell_type": "code",
   "execution_count": 28,
   "metadata": {},
   "outputs": [
    {
     "name": "stdout",
     "output_type": "stream",
     "text": [
      "a\n",
      "['b', 'c']\n"
     ]
    }
   ],
   "source": [
    "t = ('a', 'b', 'c')\n",
    "a, *b = t\n",
    "print(a)\n",
    "print(b)"
   ]
  },
  {
   "cell_type": "code",
   "execution_count": 30,
   "metadata": {},
   "outputs": [
    {
     "name": "stdout",
     "output_type": "stream",
     "text": [
      "X y Z\n"
     ]
    }
   ],
   "source": [
    "[a, b, c] = 'XyZ'\n",
    "print(a, b, c)"
   ]
  },
  {
   "cell_type": "code",
   "execution_count": 32,
   "metadata": {},
   "outputs": [
    {
     "name": "stdout",
     "output_type": "stream",
     "text": [
      "p\n",
      "y\n",
      "['t', 'h', 'o', 'n']\n"
     ]
    }
   ],
   "source": [
    "a, b, *c = 'python'\n",
    "print(a)\n",
    "print(b)\n",
    "print(c)"
   ]
  },
  {
   "cell_type": "code",
   "execution_count": 34,
   "metadata": {},
   "outputs": [
    {
     "name": "stdout",
     "output_type": "stream",
     "text": [
      "p\n",
      "y\n",
      "['t', 'h', 'o']\n",
      "n\n"
     ]
    }
   ],
   "source": [
    "a, b, *c, d = 'python'\n",
    "print(a)\n",
    "print(b)\n",
    "print(c)\n",
    "print(d)"
   ]
  },
  {
   "cell_type": "code",
   "execution_count": 35,
   "metadata": {},
   "outputs": [
    {
     "name": "stdout",
     "output_type": "stream",
     "text": [
      "p\n",
      "y\n",
      "tho\n",
      "n\n"
     ]
    }
   ],
   "source": [
    "s = 'python'\n",
    "\n",
    "a, b, c, d = s[0], s[1],s[2:-1] ,s[-1] # -1 is last element\n",
    "print(a)\n",
    "print(b)\n",
    "print(c)\n",
    "print(d)"
   ]
  },
  {
   "cell_type": "code",
   "execution_count": 37,
   "metadata": {},
   "outputs": [
    {
     "name": "stdout",
     "output_type": "stream",
     "text": [
      "p\n",
      "y\n",
      "['t', 'h', 'o']\n",
      "n\n"
     ]
    }
   ],
   "source": [
    "s = 'python'\n",
    "\n",
    "a, b, c, d = s[0], s[1],s[2:-1] ,s[-1] # -1 is last element\n",
    "*c, = c\n",
    "print(a)\n",
    "print(b)\n",
    "print(c)\n",
    "print(d)"
   ]
  },
  {
   "cell_type": "code",
   "execution_count": 40,
   "metadata": {},
   "outputs": [],
   "source": [
    "l1 = [1, 2, 3]\n",
    "l2 = [4, 5, 6]\n",
    "\n",
    "l = [*l1, *l2]"
   ]
  },
  {
   "cell_type": "code",
   "execution_count": 41,
   "metadata": {},
   "outputs": [
    {
     "name": "stdout",
     "output_type": "stream",
     "text": [
      "[1, 2, 3, 4, 5, 6]\n"
     ]
    }
   ],
   "source": [
    "print(l)"
   ]
  },
  {
   "cell_type": "code",
   "execution_count": 42,
   "metadata": {},
   "outputs": [
    {
     "name": "stdout",
     "output_type": "stream",
     "text": [
      "[1, 2, 3, 'X', 'Y', 'Z']\n"
     ]
    }
   ],
   "source": [
    "l1 = [1, 2, 3]\n",
    "l2 = 'XYZ'\n",
    "l = [*l1, *l2]\n",
    "print(l)"
   ]
  },
  {
   "cell_type": "code",
   "execution_count": 45,
   "metadata": {},
   "outputs": [
    {
     "name": "stdout",
     "output_type": "stream",
     "text": [
      "[1, 2, 3, 'x', 'y', 'z']\n"
     ]
    }
   ],
   "source": [
    "l1 = [1, 2, 3]\n",
    "l2 = {'x', 'y', 'z'}\n",
    "l = [*l1, *l2]\n",
    "print(l)"
   ]
  },
  {
   "cell_type": "code",
   "execution_count": 46,
   "metadata": {},
   "outputs": [
    {
     "name": "stdout",
     "output_type": "stream",
     "text": [
      "['a', 'b', 'c', 'c', 'd', 'e']\n",
      "{'b', 'a', 'e', 'd', 'c'}\n"
     ]
    }
   ],
   "source": [
    "s = 'abc'\n",
    "s2 = 'cde'\n",
    "\n",
    "l1 = [*s, *s2]\n",
    "s1 = {*s, *s2}\n",
    "print(l1)\n",
    "print(s1)\n"
   ]
  },
  {
   "cell_type": "code",
   "execution_count": 47,
   "metadata": {},
   "outputs": [],
   "source": [
    "s = {10,99,3,'d'}"
   ]
  },
  {
   "cell_type": "code",
   "execution_count": 48,
   "metadata": {},
   "outputs": [
    {
     "name": "stdout",
     "output_type": "stream",
     "text": [
      "3\n",
      "d\n",
      "10\n",
      "99\n"
     ]
    }
   ],
   "source": [
    "for c in s:\n",
    "    print(c)"
   ]
  },
  {
   "cell_type": "code",
   "execution_count": 51,
   "metadata": {},
   "outputs": [
    {
     "name": "stdout",
     "output_type": "stream",
     "text": [
      "3\n",
      "d\n",
      "[10, 99]\n",
      "There is no ordering in sets!\n"
     ]
    }
   ],
   "source": [
    "a, b, *c = s\n",
    "print(a)\n",
    "print(b)\n",
    "print(c)\n",
    "print('There is no ordering in sets!')"
   ]
  },
  {
   "cell_type": "code",
   "execution_count": 3,
   "metadata": {},
   "outputs": [
    {
     "data": {
      "text/plain": [
       "[3, 10, 99, 'd']"
      ]
     },
     "execution_count": 3,
     "metadata": {},
     "output_type": "execute_result"
    }
   ],
   "source": [
    "s = {10,99,3,'d'}\n",
    "*c, = s\n",
    "c"
   ]
  },
  {
   "cell_type": "code",
   "execution_count": 9,
   "metadata": {},
   "outputs": [
    {
     "data": {
      "text/plain": [
       "'n'"
      ]
     },
     "execution_count": 9,
     "metadata": {},
     "output_type": "execute_result"
    }
   ],
   "source": [
    "l1[-1][-1:]"
   ]
  },
  {
   "cell_type": "code",
   "execution_count": 16,
   "metadata": {},
   "outputs": [
    {
     "name": "stdout",
     "output_type": "stream",
     "text": [
      "{1, 2, 3, 4, 5} <class 'set'>\n",
      "{1, 2, 3, 4, 5} <class 'set'>\n",
      "[1, 2, 3, 3, 4, 5] <class 'list'>\n",
      "(1, 2, 3, 3, 4, 5) <class 'tuple'>\n"
     ]
    }
   ],
   "source": [
    "s1 = {1, 2, 3}\n",
    "s2 = {3, 4, 5}\n",
    "\n",
    "s3 = {*s1, *s2}\n",
    "print(s3, type(s3))\n",
    "\n",
    "s4 = s1.union(s2)\n",
    "print(s4, type(s4))\n",
    "\n",
    "l1 = [*s1, *s2]\n",
    "print(l1, type(l1))\n",
    "\n",
    "t1 = *s1, *s2\n",
    "print(t1, type(t1))"
   ]
  },
  {
   "cell_type": "code",
   "execution_count": 20,
   "metadata": {},
   "outputs": [
    {
     "name": "stdout",
     "output_type": "stream",
     "text": [
      "{'key1', 'key4', 'key2', 'key3'}\n",
      "{'key1': 1, 'key2': 'other value', 'key3': 3, 'key4': 4} <class 'dict'>\n",
      "{'key2': 2, 'key4': 4, 'key1': 1, 'key3': 3}\n",
      "{'a': 1, 'b': 2, 'key1': 1, 'key2': 2, 'key3': 3, 'c': 3}\n"
     ]
    }
   ],
   "source": [
    "d1 = {'key1':1,'key2':2,'key3':3}\n",
    "d2 = {'key2':'other value','key4':4}\n",
    "\n",
    "print({*d1, *d2})\n",
    "\n",
    "d3 = {**d1, **d2}\n",
    "print(d3, type(d3))\n",
    "\n",
    "d4 = {**d2, **d1}\n",
    "print(d4)\n",
    "\n",
    "d5 = {'a':1, 'b':2, **d1, 'c':3}\n",
    "print(d5)"
   ]
  },
  {
   "cell_type": "code",
   "execution_count": 25,
   "metadata": {},
   "outputs": [
    {
     "name": "stdout",
     "output_type": "stream",
     "text": [
      "1\n",
      "[2, 3]\n",
      "p\n",
      "['y', 't', 'h', 'o', 'n']\n"
     ]
    }
   ],
   "source": [
    "a, *b, (c, *d) = [1, 2, 3, 'python']\n",
    "print(a)\n",
    "print(b)\n",
    "print(c)\n",
    "print(d)"
   ]
  },
  {
   "cell_type": "code",
   "execution_count": 30,
   "metadata": {},
   "outputs": [
    {
     "name": "stdout",
     "output_type": "stream",
     "text": [
      "1\n",
      "[2, 3]\n",
      "p\n",
      "['y', 't', 'h', 'o', 'n']\n"
     ]
    }
   ],
   "source": [
    "l1 = [1, 2, 3, 'python']\n",
    "\n",
    "a = l1[0]\n",
    "b = l1[1:-1]\n",
    "c = l1[-1][0]\n",
    "d = list(l1[-1][1:])\n",
    "\n",
    "print(a)\n",
    "print(b)\n",
    "print(c)\n",
    "print(d)"
   ]
  },
  {
   "cell_type": "markdown",
   "metadata": {},
   "source": [
    "# *args \n",
    "\n",
    "-> Something similar to unpacking occurs when positoinal arguments are passed into a function:\n",
    "    def func1(a, b, c):\n",
    "        # code\n",
    "    func1(10, 20, 30) -> a, b, c = (10, 20, 30)\n",
    "    \n",
    "-> In fact, it is so similar it also supports the * operator\n",
    "    def func2(a, b, *c):\n",
    "        # code\n",
    "    we can pass in two or more parameters\n",
    "    \n",
    "    func2(10, 20, 'a', 'b') -> a=10; b=20; c=('a','b')\n",
    "    \n",
    "    - The star parameter name is arbitrary but it is customary to name it *args\n",
    "        - def func2(a, b, *args):\n",
    "            # code\n",
    "    - You cannot add more positoinal arguments after *args\n",
    "    \n",
    "-> Unpacking and passing:\n",
    "    l = [10,20,30]\n",
    "    func1(*l) -> OK"
   ]
  },
  {
   "cell_type": "code",
   "execution_count": 40,
   "metadata": {},
   "outputs": [],
   "source": [
    "def func1(a, b, *args):\n",
    "    print(a)\n",
    "    print(b)\n",
    "    print(args)"
   ]
  },
  {
   "cell_type": "code",
   "execution_count": 41,
   "metadata": {},
   "outputs": [
    {
     "name": "stdout",
     "output_type": "stream",
     "text": [
      "10\n",
      "20\n",
      "()\n",
      "\n",
      "\n",
      "10\n",
      "20\n",
      "(1, 2, 3)\n"
     ]
    }
   ],
   "source": [
    "func1(10,20)\n",
    "print('\\n')\n",
    "func1(10,20,1,2,3)"
   ]
  },
  {
   "cell_type": "code",
   "execution_count": 48,
   "metadata": {},
   "outputs": [],
   "source": [
    "def avg(*args):\n",
    "    count = len(args)\n",
    "    total = sum(args)\n",
    "    \n",
    "    print(total/count)"
   ]
  },
  {
   "cell_type": "code",
   "execution_count": 49,
   "metadata": {},
   "outputs": [
    {
     "name": "stdout",
     "output_type": "stream",
     "text": [
      "15.0\n"
     ]
    }
   ],
   "source": [
    "avg(10,20)"
   ]
  },
  {
   "cell_type": "code",
   "execution_count": 50,
   "metadata": {},
   "outputs": [
    {
     "ename": "ZeroDivisionError",
     "evalue": "division by zero",
     "output_type": "error",
     "traceback": [
      "\u001b[1;31m---------------------------------------------------------------------------\u001b[0m",
      "\u001b[1;31mZeroDivisionError\u001b[0m                         Traceback (most recent call last)",
      "\u001b[1;32m<ipython-input-50-f5d909301850>\u001b[0m in \u001b[0;36m<module>\u001b[1;34m()\u001b[0m\n\u001b[1;32m----> 1\u001b[1;33m \u001b[0mavg\u001b[0m\u001b[1;33m(\u001b[0m\u001b[1;33m)\u001b[0m\u001b[1;33m\u001b[0m\u001b[0m\n\u001b[0m",
      "\u001b[1;32m<ipython-input-48-3caffb9a7993>\u001b[0m in \u001b[0;36mavg\u001b[1;34m(*args)\u001b[0m\n\u001b[0;32m      3\u001b[0m     \u001b[0mtotal\u001b[0m \u001b[1;33m=\u001b[0m \u001b[0msum\u001b[0m\u001b[1;33m(\u001b[0m\u001b[0margs\u001b[0m\u001b[1;33m)\u001b[0m\u001b[1;33m\u001b[0m\u001b[0m\n\u001b[0;32m      4\u001b[0m \u001b[1;33m\u001b[0m\u001b[0m\n\u001b[1;32m----> 5\u001b[1;33m     \u001b[0mprint\u001b[0m\u001b[1;33m(\u001b[0m\u001b[0mtotal\u001b[0m\u001b[1;33m/\u001b[0m\u001b[0mcount\u001b[0m\u001b[1;33m)\u001b[0m\u001b[1;33m\u001b[0m\u001b[0m\n\u001b[0m",
      "\u001b[1;31mZeroDivisionError\u001b[0m: division by zero"
     ]
    }
   ],
   "source": [
    "avg()"
   ]
  },
  {
   "cell_type": "code",
   "execution_count": 51,
   "metadata": {},
   "outputs": [],
   "source": [
    "def avg(*args):\n",
    "    count = len(args)\n",
    "    total = sum(args)\n",
    "    if count == 0:\n",
    "        return 0\n",
    "    else:\n",
    "        return (total/count)"
   ]
  },
  {
   "cell_type": "code",
   "execution_count": 54,
   "metadata": {},
   "outputs": [
    {
     "name": "stdout",
     "output_type": "stream",
     "text": [
      "0\n",
      "3.0\n"
     ]
    }
   ],
   "source": [
    "print(avg())\n",
    "print(avg(2, 2, 4, 4))"
   ]
  },
  {
   "cell_type": "code",
   "execution_count": 55,
   "metadata": {},
   "outputs": [],
   "source": [
    "def avg(*args):\n",
    "    count = len(args)\n",
    "    total = sum(args)\n",
    "    \n",
    "    return count and total/count"
   ]
  },
  {
   "cell_type": "code",
   "execution_count": 57,
   "metadata": {},
   "outputs": [
    {
     "name": "stdout",
     "output_type": "stream",
     "text": [
      "0\n",
      "0.0\n",
      "3.0\n"
     ]
    }
   ],
   "source": [
    "print(avg())\n",
    "print(avg(0))\n",
    "print(avg(2, 2, 4, 4))"
   ]
  },
  {
   "cell_type": "code",
   "execution_count": 58,
   "metadata": {},
   "outputs": [],
   "source": [
    "def avg(a, *args):\n",
    "    count = len(args) + 1\n",
    "    total = sum(args) + a\n",
    "    return total/count"
   ]
  },
  {
   "cell_type": "code",
   "execution_count": 66,
   "metadata": {},
   "outputs": [
    {
     "name": "stdout",
     "output_type": "stream",
     "text": [
      "TypeError error occured\n",
      "0.0\n",
      "3.0\n"
     ]
    }
   ],
   "source": [
    "try:\n",
    "    print(avg())\n",
    "except TypeError:\n",
    "    print('TypeError error occured')\n",
    "\n",
    "print(avg(0))\n",
    "print(avg(2, 2, 4, 4))"
   ]
  },
  {
   "cell_type": "code",
   "execution_count": 72,
   "metadata": {},
   "outputs": [
    {
     "data": {
      "text/plain": [
       "17.833333333333332"
      ]
     },
     "execution_count": 72,
     "metadata": {},
     "output_type": "execute_result"
    }
   ],
   "source": [
    "l1 = [10, 20, 30, 40]\n",
    "b = 3\n",
    "c = 4\n",
    "avg(*l1, b, c)"
   ]
  },
  {
   "cell_type": "code",
   "execution_count": 79,
   "metadata": {},
   "outputs": [
    {
     "data": {
      "text/plain": [
       "[10, 20, 30, 40, 50, 60]"
      ]
     },
     "execution_count": 79,
     "metadata": {},
     "output_type": "execute_result"
    }
   ],
   "source": [
    "l2 = [50, 60]\n",
    "a = [*l1,*l2]\n",
    "a"
   ]
  },
  {
   "cell_type": "markdown",
   "metadata": {},
   "source": [
    "# Keyword Arguments\n",
    "\n",
    "-> Positoinal parameters can, optionally, be passed as named (keyword) arguments\n",
    "    \n",
    "-> Sometimes we want to make the keyword arguments mandatory\n",
    "    - We do this by creating parameters after the positonal parameters have been exhausted\n",
    "    def func(a, b, *args, d):\n",
    "        # code\n",
    "    -> d must be passed as a keyword in the function above, oherwise an exception will be raised\n",
    "    \n",
    "    func(1, 2, 'x', 'y', d=100) -> a = 1; b = 2; args = ('x','y'), d = 100;\n",
    "    func(1,2) -> ExceptionError\n",
    "\n",
    "-> we can omit any mandatory positional arguments\n",
    "    def func(*args, d):\n",
    "        # code\n",
    "    func(1, 2, 3, d=100) -> args = (1,2,3); d = 100\n",
    "    func(d=100) -> args = (), d = 100\n",
    "    \n",
    "-> We can force no positional arguments at all\n",
    "    - The star is kind of like the 'end' of positional arguments\n",
    "     - def func( * ,d):\n",
    "        # code\n",
    "    func(1,2,3, d=100) -> Exception\n",
    "    func(d=100) -> d = 100\n",
    "\n",
    "-> Two functions\n",
    "      - def func(a, b=1, *args, d, e=True)\n",
    "        a -> mandatory\n",
    "        b -> optional\n",
    "        *args -> catch all for any additional optional arguments\n",
    "        d -> mandatory keyword arguments\n",
    "        e -> optional parameter\n",
    "      def func(a, b=1, *, d, e=True)\n",
    "        * only two positoinal arguments are allowed\n",
    "\n",
    "-> Using * in a function\n",
    "    * will ensure that only the required arguments are given\n",
    "    func(*, d) -> Only takes one value and that is d"
   ]
  },
  {
   "cell_type": "code",
   "execution_count": 5,
   "metadata": {},
   "outputs": [
    {
     "name": "stdout",
     "output_type": "stream",
     "text": [
      "1 2 3\n",
      "1 2 3\n",
      "1 2 3\n"
     ]
    }
   ],
   "source": [
    "def func(a, b, c):\n",
    "    print(a, b, c)\n",
    "    \n",
    "func(1, 2, 3)\n",
    "func(a=1, c=3, b=2)\n",
    "func(1,c=3,b=2)"
   ]
  },
  {
   "cell_type": "code",
   "execution_count": 9,
   "metadata": {},
   "outputs": [
    {
     "name": "stdout",
     "output_type": "stream",
     "text": [
      "1 2 (3, 4) 5\n",
      "['A'] 2 (3, 4) 5\n"
     ]
    }
   ],
   "source": [
    "def func1(a, b, *args, d):\n",
    "    print(a, b, args, d)\n",
    "    \n",
    "func1(1,2,3,4,d=5)\n",
    "func1(['A'],2,3,4,d=5)"
   ]
  },
  {
   "cell_type": "code",
   "execution_count": 13,
   "metadata": {},
   "outputs": [
    {
     "name": "stdout",
     "output_type": "stream",
     "text": [
      "(1, 2, 3, 4) 5\n",
      "() 5\n",
      "() 5\n"
     ]
    },
    {
     "data": {
      "text/plain": [
       "NoneType"
      ]
     },
     "execution_count": 13,
     "metadata": {},
     "output_type": "execute_result"
    }
   ],
   "source": [
    "def func1(*args, d):\n",
    "    print(args, d)\n",
    "\n",
    "func1(1,2,3,4, d=5)\n",
    "func1(d=5)\n",
    "type(func1(d=5))"
   ]
  },
  {
   "cell_type": "code",
   "execution_count": 15,
   "metadata": {},
   "outputs": [
    {
     "ename": "TypeError",
     "evalue": "func1() takes 0 positional arguments but 2 positional arguments (and 1 keyword-only argument) were given",
     "output_type": "error",
     "traceback": [
      "\u001b[1;31m---------------------------------------------------------------------------\u001b[0m",
      "\u001b[1;31mTypeError\u001b[0m                                 Traceback (most recent call last)",
      "\u001b[1;32m<ipython-input-15-3fd3f8dce240>\u001b[0m in \u001b[0;36m<module>\u001b[1;34m()\u001b[0m\n\u001b[0;32m      2\u001b[0m     \u001b[0mprint\u001b[0m\u001b[1;33m(\u001b[0m\u001b[0md\u001b[0m\u001b[1;33m)\u001b[0m\u001b[1;33m\u001b[0m\u001b[0m\n\u001b[0;32m      3\u001b[0m \u001b[1;33m\u001b[0m\u001b[0m\n\u001b[1;32m----> 4\u001b[1;33m \u001b[0mfunc1\u001b[0m\u001b[1;33m(\u001b[0m\u001b[1;36m1\u001b[0m\u001b[1;33m,\u001b[0m\u001b[1;36m2\u001b[0m\u001b[1;33m,\u001b[0m\u001b[0md\u001b[0m\u001b[1;33m=\u001b[0m\u001b[1;36m100\u001b[0m\u001b[1;33m)\u001b[0m\u001b[1;33m\u001b[0m\u001b[0m\n\u001b[0m",
      "\u001b[1;31mTypeError\u001b[0m: func1() takes 0 positional arguments but 2 positional arguments (and 1 keyword-only argument) were given"
     ]
    }
   ],
   "source": [
    "def func1(*,d):\n",
    "    print(d)\n",
    "    \n",
    "func1(1,2,d=100)"
   ]
  },
  {
   "cell_type": "code",
   "execution_count": 19,
   "metadata": {},
   "outputs": [
    {
     "name": "stdout",
     "output_type": "stream",
     "text": [
      "100\n"
     ]
    }
   ],
   "source": [
    "func1(d=100)"
   ]
  },
  {
   "cell_type": "code",
   "execution_count": 20,
   "metadata": {},
   "outputs": [
    {
     "ename": "TypeError",
     "evalue": "func1() takes 0 positional arguments but 1 was given",
     "output_type": "error",
     "traceback": [
      "\u001b[1;31m---------------------------------------------------------------------------\u001b[0m",
      "\u001b[1;31mTypeError\u001b[0m                                 Traceback (most recent call last)",
      "\u001b[1;32m<ipython-input-20-8d3c718f5c66>\u001b[0m in \u001b[0;36m<module>\u001b[1;34m()\u001b[0m\n\u001b[1;32m----> 1\u001b[1;33m \u001b[0mfunc1\u001b[0m\u001b[1;33m(\u001b[0m\u001b[1;36m100\u001b[0m\u001b[1;33m)\u001b[0m\u001b[1;33m\u001b[0m\u001b[0m\n\u001b[0m",
      "\u001b[1;31mTypeError\u001b[0m: func1() takes 0 positional arguments but 1 was given"
     ]
    }
   ],
   "source": [
    "func1(100)"
   ]
  },
  {
   "cell_type": "code",
   "execution_count": 21,
   "metadata": {},
   "outputs": [
    {
     "name": "stdout",
     "output_type": "stream",
     "text": [
      "1 2 4\n"
     ]
    }
   ],
   "source": [
    "def func(a, b, *, d):\n",
    "    print(a,b,d)\n",
    "    \n",
    "func(1,2,d=4)"
   ]
  },
  {
   "cell_type": "code",
   "execution_count": 25,
   "metadata": {},
   "outputs": [
    {
     "name": "stdout",
     "output_type": "stream",
     "text": [
      "1 5 (3, 4) a\n",
      "1 2 () a\n"
     ]
    }
   ],
   "source": [
    "def func(a, b=2,*args, d):\n",
    "    print(a, b, args, d)\n",
    "\n",
    "func(1,5,3,4,d='a')\n",
    "func(1,d='a')"
   ]
  },
  {
   "cell_type": "code",
   "execution_count": 37,
   "metadata": {},
   "outputs": [
    {
     "name": "stdout",
     "output_type": "stream",
     "text": [
      "5 4 (3, 2, 1) 0 this is e\n",
      "0 600 ()     d is other value    e is keyword\n",
      "\n",
      " this is a \n",
      " b is m/s (24, 'second in star args', 'third in star args')     \n",
      " this is    d   \n",
      " this is e\n"
     ]
    }
   ],
   "source": [
    "def func(a, b=20, *args, d=0,e):\n",
    "    print(a, b, args, d, e)\n",
    "    \n",
    "func(5, 4, 3, 2, 1, e='this is e')\n",
    "func(0,600,d='    d is other value   ', e='e is keyword')\n",
    "func('\\n this is a','\\n b is m/s', 24, 'second in star args', 'third in star args',\n",
    "    d = '    \\n this is    d', e='  \\n this is e')"
   ]
  },
  {
   "cell_type": "markdown",
   "metadata": {},
   "source": [
    "# **kwargs\n",
    "\n",
    "-> Is there a way to specify the number of keyword arguments?\n",
    "    - Yes of course, this is PYTHON\n",
    "    \n",
    "    *args -> is used to scoop up variable amount of remaining position arguments\n",
    "        - stores into a tuple\n",
    "\n",
    "-> **kwargs argument\n",
    "    **kwargs -> is used to scoop up a variable amount of remaining keyword arguments\n",
    "        - stores into a dictionary\n",
    "        - kwargs is the customary name to use\n",
    "        - the real performer here is the double star **\n",
    "        - no parameters can come after **kwargs\n",
    "\n",
    "-> Example\n",
    "    def func(*,d, **kwargs):\n",
    "        # code\n",
    "        \n",
    "        func(d=1, a=2,b=3) -> d=1; kwargs ={'a':2,'b'=3}\n",
    "        func(d=1) -> d=1; kwargs = {}\n",
    "    \n",
    "    def func(**kwargs):\n",
    "        # code\n",
    "        \n",
    "        func(a=1,b=3) -> kwargs ={'a':2,'b'=3}\n",
    "        func() -> kwargs = {}\n",
    "    \n",
    "    def func(*args, **kwargs):\n",
    "        # code\n",
    "        \n",
    "        func(1, 2, a=2, b=3) -> args = (1,2); kwargs ={'a':2,'b'=3}\n",
    "        func() -> args = (), kwargs = {}\n",
    "    "
   ]
  },
  {
   "cell_type": "code",
   "execution_count": 39,
   "metadata": {},
   "outputs": [
    {
     "name": "stdout",
     "output_type": "stream",
     "text": [
      "{'a': 1, 'b': 2, 'c': 3, 'd': 4}\n"
     ]
    }
   ],
   "source": [
    "def func(**kwargs):\n",
    "    print(kwargs)\n",
    "\n",
    "func(a=1,b=2,c=3,d=4)"
   ]
  },
  {
   "cell_type": "code",
   "execution_count": 41,
   "metadata": {},
   "outputs": [
    {
     "name": "stdout",
     "output_type": "stream",
     "text": [
      "(1, 2, 3) \n",
      " {'a': 10, 'b': 20, 'c': 30}\n"
     ]
    }
   ],
   "source": [
    "def func(*args, **kwargs):\n",
    "    print(args,'\\n' ,kwargs)\n",
    "\n",
    "func(1, 2, 3, a=10, b=20,c=30)"
   ]
  },
  {
   "cell_type": "code",
   "execution_count": 42,
   "metadata": {},
   "outputs": [
    {
     "ename": "SyntaxError",
     "evalue": "named arguments must follow bare * (<ipython-input-42-d4e9a1d412fe>, line 1)",
     "output_type": "error",
     "traceback": [
      "\u001b[1;36m  File \u001b[1;32m\"<ipython-input-42-d4e9a1d412fe>\"\u001b[1;36m, line \u001b[1;32m1\u001b[0m\n\u001b[1;33m    def func(a, b, *, **kwargs):\u001b[0m\n\u001b[1;37m                     ^\u001b[0m\n\u001b[1;31mSyntaxError\u001b[0m\u001b[1;31m:\u001b[0m named arguments must follow bare *\n"
     ]
    }
   ],
   "source": [
    "def func(a, b, *, **kwargs):\n",
    "    print(a)\n",
    "    print(b)\n",
    "    print(kwargs)"
   ]
  },
  {
   "cell_type": "code",
   "execution_count": 47,
   "metadata": {},
   "outputs": [
    {
     "name": "stdout",
     "output_type": "stream",
     "text": [
      "1\n",
      "2\n",
      "20\n",
      "{'x': 100, 'y': 200}\n"
     ]
    }
   ],
   "source": [
    "def func(a, b, *, d, **kwargs):\n",
    "    print(a)\n",
    "    print(b)\n",
    "    print(d)\n",
    "    print(kwargs)\n",
    "\n",
    "func(1, 2, x=100, y=200, d=20)"
   ]
  },
  {
   "cell_type": "code",
   "execution_count": 49,
   "metadata": {},
   "outputs": [
    {
     "name": "stdout",
     "output_type": "stream",
     "text": [
      "1\n",
      "2\n",
      "{'x': 100, 'y': 100}\n",
      "1\n",
      "2\n",
      "{}\n"
     ]
    }
   ],
   "source": [
    "def func(a, b, **kwargs):\n",
    "    print(a)\n",
    "    print(b)\n",
    "    print(kwargs)\n",
    "    \n",
    "func(1,2, x=100, y=100)\n",
    "func(1,2)"
   ]
  },
  {
   "cell_type": "markdown",
   "metadata": {},
   "source": [
    "# Putting it All Together\n",
    "\n",
    "-> Positional Arguments\n",
    "    - Specific\n",
    "    - *args -> collects and exhausts remaining positional arguments\n",
    "    - * -> indicates the end of positional arguments\n",
    "\n",
    "-> Keyword-only arguments\n",
    "    - The user must pass in the values\n",
    "    - Passed after the positional arguments have been exhausted\n",
    "    - Specific\n",
    "    - May or maynot have defualt values\n",
    "    - **kwargs -> collects any key-value arguments that are not specifically names\n",
    "\n",
    "-> The following can go into a funciton:\n",
    "    a, b, c = 10 ->> specific positional parameters with a specific parameter c\n",
    "    \n",
    "    *args / * ->> Comes after positional parmeters\n",
    "              ->> the star * indicates no more positional arguments\n",
    "              ->> *args scoops up any aditional positional arguments\n",
    "              ->> Example of *\"\n",
    "                  def func(a, b=10, *, kw1, kw2=100):\n",
    "                      # code\n",
    "                  -> a, b positional arguments\n",
    "                  -> The * indicates that the function only accepts two positional arguments namely a and b!\n",
    "                  -> kw1 and kw2 are keyword-only aruments\n",
    "                  \n",
    "    \n",
    "    kwl, kw2=100 ->> keyword-only arguments\n",
    "                 ->> kw1 is mandatory, kw2 is optional\n",
    "                 ->> if used, * or *args must also be used\n",
    "                 ->> Example:\n",
    "                     def func(a, b, *args, kw1, kw2=100):\n",
    "                         # code\n",
    "                     In the above function:\n",
    "                         -> a,b are specific positional arguments\n",
    "                         -> *args scoops up other arguments\n",
    "                         -> kw1 and kw2 can only be accessed with keywords\n",
    "                             kw2 has a default value \n",
    "                         -> Here BEWARE not to put a default value for b as it will be hard to indentify what to scoop up in *args\n",
    "\n",
    "    **kwargs ->> scoops up any additional keyword arguments into a dictionary\n",
    "    \n",
    "\n",
    "-> Use cases for *args and **kwargs:\n",
    "\n",
    "    - print(*args, sep='', end='\\n, flush=False) function\n",
    "    - Often, keyword-only arguments are used to modify the default behavior of a function"
   ]
  },
  {
   "cell_type": "code",
   "execution_count": 1,
   "metadata": {},
   "outputs": [],
   "source": [
    "def func(a, b, *args):\n",
    "    print(a, b, args)"
   ]
  },
  {
   "cell_type": "code",
   "execution_count": 3,
   "metadata": {},
   "outputs": [
    {
     "name": "stdout",
     "output_type": "stream",
     "text": [
      "1 2 ('x', 'y', 'z')\n"
     ]
    }
   ],
   "source": [
    "func(1, 2, 'x', 'y', 'z')"
   ]
  },
  {
   "cell_type": "code",
   "execution_count": 4,
   "metadata": {},
   "outputs": [
    {
     "ename": "SyntaxError",
     "evalue": "positional argument follows keyword argument (<ipython-input-4-4d07ac3e6fd6>, line 1)",
     "output_type": "error",
     "traceback": [
      "\u001b[1;36m  File \u001b[1;32m\"<ipython-input-4-4d07ac3e6fd6>\"\u001b[1;36m, line \u001b[1;32m1\u001b[0m\n\u001b[1;33m    func(a=1, b=2, 'x', 'y', 'z')\u001b[0m\n\u001b[1;37m                  ^\u001b[0m\n\u001b[1;31mSyntaxError\u001b[0m\u001b[1;31m:\u001b[0m positional argument follows keyword argument\n"
     ]
    }
   ],
   "source": [
    "func(a=1, b=2, 'x', 'y', 'z')"
   ]
  },
  {
   "cell_type": "code",
   "execution_count": 7,
   "metadata": {},
   "outputs": [],
   "source": [
    "def func(a, b=2, c=3, *args):\n",
    "    print(a, b, c, args)"
   ]
  },
  {
   "cell_type": "code",
   "execution_count": 8,
   "metadata": {},
   "outputs": [
    {
     "name": "stdout",
     "output_type": "stream",
     "text": [
      "1 2 3 ('x', 'y', 'z')\n"
     ]
    }
   ],
   "source": [
    "func(1, 2, 3, 'x', 'y', 'z')"
   ]
  },
  {
   "cell_type": "code",
   "execution_count": 11,
   "metadata": {},
   "outputs": [
    {
     "ename": "SyntaxError",
     "evalue": "positional argument follows keyword argument (<ipython-input-11-9f31075b0795>, line 1)",
     "output_type": "error",
     "traceback": [
      "\u001b[1;36m  File \u001b[1;32m\"<ipython-input-11-9f31075b0795>\"\u001b[1;36m, line \u001b[1;32m1\u001b[0m\n\u001b[1;33m    func(1, c=5, 'x', 'y', 'z')\u001b[0m\n\u001b[1;37m                ^\u001b[0m\n\u001b[1;31mSyntaxError\u001b[0m\u001b[1;31m:\u001b[0m positional argument follows keyword argument\n"
     ]
    }
   ],
   "source": [
    "func(1, c=5, 'x', 'y', 'z')"
   ]
  },
  {
   "cell_type": "code",
   "execution_count": 12,
   "metadata": {},
   "outputs": [],
   "source": [
    "def func(a, b=2, *args, c=3, d):\n",
    "    print(a, b, args, c, d)"
   ]
  },
  {
   "cell_type": "code",
   "execution_count": 13,
   "metadata": {},
   "outputs": [
    {
     "name": "stdout",
     "output_type": "stream",
     "text": [
      "1 20 ('x', 'y', 'z') 4 1\n"
     ]
    }
   ],
   "source": [
    "func(1, 20, 'x', 'y', 'z', c=4, d=1)"
   ]
  },
  {
   "cell_type": "code",
   "execution_count": 14,
   "metadata": {},
   "outputs": [
    {
     "name": "stdout",
     "output_type": "stream",
     "text": [
      "10 20 ('x', 'y', 'z') 3 10\n"
     ]
    }
   ],
   "source": [
    "func(10, 20, 'x', 'y', 'z', d=10)"
   ]
  },
  {
   "cell_type": "code",
   "execution_count": 15,
   "metadata": {},
   "outputs": [
    {
     "ename": "TypeError",
     "evalue": "func() got multiple values for argument 'b'",
     "output_type": "error",
     "traceback": [
      "\u001b[1;31m---------------------------------------------------------------------------\u001b[0m",
      "\u001b[1;31mTypeError\u001b[0m                                 Traceback (most recent call last)",
      "\u001b[1;32m<ipython-input-15-72033e409d7c>\u001b[0m in \u001b[0;36m<module>\u001b[1;34m()\u001b[0m\n\u001b[1;32m----> 1\u001b[1;33m \u001b[0mfunc\u001b[0m\u001b[1;33m(\u001b[0m\u001b[1;36m1\u001b[0m\u001b[1;33m,\u001b[0m \u001b[1;34m'x'\u001b[0m\u001b[1;33m,\u001b[0m \u001b[1;34m'y'\u001b[0m\u001b[1;33m,\u001b[0m \u001b[1;34m'z'\u001b[0m\u001b[1;33m,\u001b[0m \u001b[0mb\u001b[0m\u001b[1;33m=\u001b[0m\u001b[1;36m4\u001b[0m\u001b[1;33m,\u001b[0m \u001b[0md\u001b[0m\u001b[1;33m=\u001b[0m\u001b[1;36m10\u001b[0m\u001b[1;33m)\u001b[0m\u001b[1;33m\u001b[0m\u001b[0m\n\u001b[0m",
      "\u001b[1;31mTypeError\u001b[0m: func() got multiple values for argument 'b'"
     ]
    }
   ],
   "source": [
    "func(1, 'x', 'y', 'z', b=4, d=10)"
   ]
  },
  {
   "cell_type": "code",
   "execution_count": 16,
   "metadata": {},
   "outputs": [
    {
     "name": "stdout",
     "output_type": "stream",
     "text": [
      "1 x ('y', 'z') 3 10\n"
     ]
    }
   ],
   "source": [
    "func(1, 'x', 'y', 'z', d=10)"
   ]
  },
  {
   "cell_type": "code",
   "execution_count": 17,
   "metadata": {},
   "outputs": [],
   "source": [
    "def func(a, b, *args, c=10, d=20, **kwargs):\n",
    "    print(a, b, args, c, d, kwargs)"
   ]
  },
  {
   "cell_type": "code",
   "execution_count": 18,
   "metadata": {},
   "outputs": [
    {
     "name": "stdout",
     "output_type": "stream",
     "text": [
      "1 2 ('x', 'y', 'z') 100 200 {'x': 0.1, 'y': 0.2}\n"
     ]
    }
   ],
   "source": [
    "func(1, 2, 'x', 'y', 'z', c=100, d=200, x=0.1, y=0.2)"
   ]
  },
  {
   "cell_type": "code",
   "execution_count": 19,
   "metadata": {},
   "outputs": [
    {
     "name": "stdout",
     "output_type": "stream",
     "text": [
      "Help on built-in function print in module builtins:\n",
      "\n",
      "print(...)\n",
      "    print(value, ..., sep=' ', end='\\n', file=sys.stdout, flush=False)\n",
      "    \n",
      "    Prints the values to a stream, or to sys.stdout by default.\n",
      "    Optional keyword arguments:\n",
      "    file:  a file-like object (stream); defaults to the current sys.stdout.\n",
      "    sep:   string inserted between values, default a space.\n",
      "    end:   string appended after the last value, default a newline.\n",
      "    flush: whether to forcibly flush the stream.\n",
      "\n"
     ]
    }
   ],
   "source": [
    "help(print)"
   ]
  },
  {
   "cell_type": "code",
   "execution_count": 28,
   "metadata": {},
   "outputs": [],
   "source": [
    "def calc_hi_lo_avg(*args, log_to_console=False):\n",
    "    hi = int(bool(args)) and max(args)\n",
    "    if len(args) == 0:\n",
    "        lo = 0\n",
    "    else:\n",
    "        lo = min(args)\n",
    "    \n",
    "    lo = min(args) if len(args) > 0 else 0\n",
    "    \n",
    "    avg = (hi + lo) / 2\n",
    "    if log_to_console:\n",
    "        print(\"high={0}, low={1}, avg={2}\".format(hi, lo, avg))\n",
    "    \n",
    "    return avg"
   ]
  },
  {
   "cell_type": "code",
   "execution_count": 31,
   "metadata": {},
   "outputs": [
    {
     "name": "stdout",
     "output_type": "stream",
     "text": [
      "0.5\n"
     ]
    }
   ],
   "source": [
    "avg = calc_hi_lo_avg(1, 2, 3, -4, 5)\n",
    "print(avg)"
   ]
  },
  {
   "cell_type": "code",
   "execution_count": 33,
   "metadata": {},
   "outputs": [
    {
     "name": "stdout",
     "output_type": "stream",
     "text": [
      "high=5, low=-4, avg=0.5\n",
      "high=0, low=0, avg=0.0\n"
     ]
    }
   ],
   "source": [
    "is_debug = True\n",
    "avg = calc_hi_lo_avg(1, 2, 3, -4, 5, log_to_console=is_debug)\n",
    "avg2 = calc_hi_lo_avg(log_to_console=is_debug)"
   ]
  },
  {
   "cell_type": "markdown",
   "metadata": {},
   "source": [
    "#  A Simple Function Timer"
   ]
  },
  {
   "cell_type": "code",
   "execution_count": 34,
   "metadata": {},
   "outputs": [],
   "source": [
    "import time"
   ]
  },
  {
   "cell_type": "code",
   "execution_count": 35,
   "metadata": {},
   "outputs": [],
   "source": [
    "def time_it(fn, *args, **kwargs):\n",
    "    print(args, kwargs)"
   ]
  },
  {
   "cell_type": "code",
   "execution_count": 36,
   "metadata": {},
   "outputs": [
    {
     "name": "stdout",
     "output_type": "stream",
     "text": [
      "(1, 2, 3) {'sep': ' - ', 'end': '***'}\n"
     ]
    }
   ],
   "source": [
    "time_it(print, 1, 2, 3, sep=' - ', end='***')"
   ]
  },
  {
   "cell_type": "code",
   "execution_count": 38,
   "metadata": {},
   "outputs": [],
   "source": [
    "def time_it(fn, *args, **kwargs):\n",
    "    fn(args, kwargs)"
   ]
  },
  {
   "cell_type": "code",
   "execution_count": 39,
   "metadata": {},
   "outputs": [
    {
     "name": "stdout",
     "output_type": "stream",
     "text": [
      "(1, 2, 3) {'sep': ' - ', 'end': '***'}\n"
     ]
    }
   ],
   "source": [
    "time_it(print, 1, 2, 3, sep=' - ', end='***')"
   ]
  },
  {
   "cell_type": "code",
   "execution_count": 40,
   "metadata": {},
   "outputs": [],
   "source": [
    "def time_it(fn, *args, **kwargs):\n",
    "    fn(*args, **kwargs)"
   ]
  },
  {
   "cell_type": "code",
   "execution_count": 42,
   "metadata": {},
   "outputs": [
    {
     "name": "stdout",
     "output_type": "stream",
     "text": [
      "1 - 2 - 3\n",
      "***"
     ]
    }
   ],
   "source": [
    "time_it(print, 1, 2, 3, sep=' - ', end='\\n***')"
   ]
  },
  {
   "cell_type": "code",
   "execution_count": 45,
   "metadata": {},
   "outputs": [],
   "source": [
    "def time_it(fn, *args, rep=1, **kwargs):\n",
    "    for i in range(rep):\n",
    "        fn(*args, **kwargs)"
   ]
  },
  {
   "cell_type": "code",
   "execution_count": 47,
   "metadata": {},
   "outputs": [
    {
     "name": "stdout",
     "output_type": "stream",
     "text": [
      "1 - 2 - 3***\n",
      "1 - 2 - 3***\n",
      "1 - 2 - 3***\n",
      "1 - 2 - 3***\n",
      "1 - 2 - 3***\n"
     ]
    }
   ],
   "source": [
    "time_it(print, 1, 2, 3, sep=' - ', end='***\\n',rep=5)"
   ]
  },
  {
   "cell_type": "code",
   "execution_count": 50,
   "metadata": {},
   "outputs": [],
   "source": [
    "def time_it(fn, *args, rep=1, **kwargs):\n",
    "    start = time.perf_counter()\n",
    "    for i in range(rep):\n",
    "        fn(*args, **kwargs)\n",
    "    end = time.perf_counter()\n",
    "    return (end-start)/rep"
   ]
  },
  {
   "cell_type": "code",
   "execution_count": 51,
   "metadata": {},
   "outputs": [
    {
     "name": "stdout",
     "output_type": "stream",
     "text": [
      "1 - 2 - 3***\n",
      "1 - 2 - 3***\n",
      "1 - 2 - 3***\n",
      "1 - 2 - 3***\n",
      "1 - 2 - 3***\n"
     ]
    },
    {
     "data": {
      "text/plain": [
       "0.00010633999999996036"
      ]
     },
     "execution_count": 51,
     "metadata": {},
     "output_type": "execute_result"
    }
   ],
   "source": [
    "time_it(print, 1, 2, 3, sep=' - ', end='***\\n',rep=5)"
   ]
  },
  {
   "cell_type": "code",
   "execution_count": 52,
   "metadata": {},
   "outputs": [],
   "source": [
    "def compute_powers_1(n, *, start=1, end):\n",
    "    # using a for loop\n",
    "    results = []\n",
    "    for i in range(start, end):\n",
    "        results.append(n**i)\n",
    "    return results"
   ]
  },
  {
   "cell_type": "code",
   "execution_count": 54,
   "metadata": {},
   "outputs": [
    {
     "name": "stdout",
     "output_type": "stream",
     "text": [
      "[2, 4, 8, 16]\n"
     ]
    }
   ],
   "source": [
    "print(compute_powers_1(2,end=5))"
   ]
  },
  {
   "cell_type": "code",
   "execution_count": 59,
   "metadata": {},
   "outputs": [],
   "source": [
    "def compute_powers_2(n, *, start=1, end):\n",
    "    # using a list comprehension\n",
    "    return [n**i for i in range(start, end)]"
   ]
  },
  {
   "cell_type": "code",
   "execution_count": 60,
   "metadata": {},
   "outputs": [
    {
     "name": "stdout",
     "output_type": "stream",
     "text": [
      "[2, 4, 8, 16]\n"
     ]
    }
   ],
   "source": [
    "print(compute_powers_2(2,end=5))"
   ]
  },
  {
   "cell_type": "code",
   "execution_count": 73,
   "metadata": {},
   "outputs": [],
   "source": [
    "def compute_powers_3(n, *, start=1, end):\n",
    "    # using generator expression\n",
    "    return (n**i for i in range(start, end))"
   ]
  },
  {
   "cell_type": "code",
   "execution_count": 62,
   "metadata": {},
   "outputs": [
    {
     "data": {
      "text/plain": [
       "[2, 4, 8, 16]"
      ]
     },
     "execution_count": 62,
     "metadata": {},
     "output_type": "execute_result"
    }
   ],
   "source": [
    "list(compute_powers_3(2,end=5))"
   ]
  },
  {
   "cell_type": "code",
   "execution_count": 65,
   "metadata": {},
   "outputs": [
    {
     "data": {
      "text/plain": [
       "0.4628405799999996"
      ]
     },
     "execution_count": 65,
     "metadata": {},
     "output_type": "execute_result"
    }
   ],
   "source": [
    "time_it(compute_powers_1, 2, start=0, end=20000, rep=5)"
   ]
  },
  {
   "cell_type": "code",
   "execution_count": 66,
   "metadata": {},
   "outputs": [
    {
     "data": {
      "text/plain": [
       "0.4655487599999901"
      ]
     },
     "execution_count": 66,
     "metadata": {},
     "output_type": "execute_result"
    }
   ],
   "source": [
    "time_it(compute_powers_2, n=2, start=0, end=20000, rep=5)"
   ]
  },
  {
   "cell_type": "code",
   "execution_count": 74,
   "metadata": {},
   "outputs": [
    {
     "data": {
      "text/plain": [
       "2.640000002429588e-06"
      ]
     },
     "execution_count": 74,
     "metadata": {},
     "output_type": "execute_result"
    }
   ],
   "source": [
    "time_it(compute_powers_3, n=2, start=0, end=20000, rep=5)"
   ]
  },
  {
   "cell_type": "code",
   "execution_count": 69,
   "metadata": {},
   "outputs": [
    {
     "data": {
      "text/plain": [
       "<generator object <genexpr> at 0x00000247F1D6C150>"
      ]
     },
     "execution_count": 69,
     "metadata": {},
     "output_type": "execute_result"
    }
   ],
   "source": [
    "a = (2**i for i in range(5))\n",
    "a"
   ]
  },
  {
   "cell_type": "code",
   "execution_count": 70,
   "metadata": {},
   "outputs": [
    {
     "data": {
      "text/plain": [
       "[1, 2, 4, 8, 16]"
      ]
     },
     "execution_count": 70,
     "metadata": {},
     "output_type": "execute_result"
    }
   ],
   "source": [
    "list(a)"
   ]
  },
  {
   "cell_type": "markdown",
   "metadata": {},
   "source": [
    "# Parameter Defaults - Beware\n",
    "\n",
    "-> What happens at run-time:\n",
    "    - When a module is loaded: all code in the module is executed immediately\n",
    "        - Module code:\n",
    "            a = 10 -> int object 10 is created and a references it\n",
    "            def func(a): -> the function object is created and func references it\n",
    "                print(a)"
   ]
  },
  {
   "cell_type": "code",
   "execution_count": null,
   "metadata": {},
   "outputs": [],
   "source": []
  }
 ],
 "metadata": {
  "kernelspec": {
   "display_name": "Python 3",
   "language": "python",
   "name": "python3"
  },
  "language_info": {
   "codemirror_mode": {
    "name": "ipython",
    "version": 3
   },
   "file_extension": ".py",
   "mimetype": "text/x-python",
   "name": "python",
   "nbconvert_exporter": "python",
   "pygments_lexer": "ipython3",
   "version": "3.6.5"
  }
 },
 "nbformat": 4,
 "nbformat_minor": 2
}
